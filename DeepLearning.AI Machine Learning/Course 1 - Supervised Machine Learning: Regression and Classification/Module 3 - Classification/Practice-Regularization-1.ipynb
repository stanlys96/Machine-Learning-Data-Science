{
 "cells": [
  {
   "cell_type": "code",
   "execution_count": 74,
   "id": "ef6b98d1",
   "metadata": {},
   "outputs": [],
   "source": [
    "import numpy as np\n",
    "%matplotlib widget\n",
    "import matplotlib.pyplot as plt\n",
    "from plt_overfit import overfit_example, output\n",
    "from lab_utils_common import sigmoid\n",
    "np.set_printoptions(precision=8)"
   ]
  },
  {
   "cell_type": "code",
   "execution_count": 75,
   "id": "c56c8b44",
   "metadata": {},
   "outputs": [],
   "source": [
    "def cost_linear_regression_regularized(X, y, w, b, lmb):\n",
    "  m, n = X.shape\n",
    "  original_cost = 0\n",
    "  for i in range(m):\n",
    "    f_wb = np.dot(X[i], w) + b\n",
    "    err = (f_wb - y[i]) ** 2\n",
    "    original_cost += err\n",
    "  original_cost /= 2 * m\n",
    "  regularization_cost = 0\n",
    "  for j in range(n):\n",
    "    regularization_cost += w[j] ** 2\n",
    "  regularization_cost = regularization_cost * lmb / (2 * m)\n",
    "  return regularization_cost + original_cost"
   ]
  },
  {
   "cell_type": "code",
   "execution_count": 76,
   "id": "5ceab1be",
   "metadata": {},
   "outputs": [
    {
     "name": "stdout",
     "output_type": "stream",
     "text": [
      "Regularized cost: 0.07917239320214275\n"
     ]
    }
   ],
   "source": [
    "np.random.seed(1)\n",
    "X_tmp = np.random.rand(5,6)\n",
    "y_tmp = np.array([0,1,0,1,0])\n",
    "w_tmp = np.random.rand(X_tmp.shape[1]).reshape(-1,)-0.5\n",
    "b_tmp = 0.5\n",
    "lambda_tmp = 0.7\n",
    "cost_tmp = cost_linear_regression_regularized(X_tmp, y_tmp, w_tmp, b_tmp, lambda_tmp)\n",
    "print(\"Regularized cost:\", cost_tmp)"
   ]
  },
  {
   "cell_type": "code",
   "execution_count": 77,
   "id": "0e710de2",
   "metadata": {},
   "outputs": [],
   "source": [
    "def this_sigmoid(z):\n",
    "  g = 1 / (1 + np.exp(-z))\n",
    "  return g"
   ]
  },
  {
   "cell_type": "code",
   "execution_count": 78,
   "id": "03a98701",
   "metadata": {},
   "outputs": [],
   "source": [
    "def cost_logistic_regression_regularized(X, y, w, b, lmb):\n",
    "  m, n = X.shape\n",
    "  original_cost = 0\n",
    "  for i in range(m):\n",
    "    f_wb_i = np.dot(X[i], w) + b\n",
    "    g_i = this_sigmoid(f_wb_i)\n",
    "    current_cost = -y[i] * np.log(g_i) - (1 - y[i]) * np.log(1 - g_i)\n",
    "    original_cost += current_cost\n",
    "  original_cost /= m\n",
    "  regularized_cost = 0\n",
    "  for j in range(n):\n",
    "    regularized_cost += w[j] ** 2\n",
    "  regularized_cost = regularized_cost * lmb / (2 * m)\n",
    "  return regularized_cost + original_cost"
   ]
  },
  {
   "cell_type": "code",
   "execution_count": 79,
   "id": "be421f81",
   "metadata": {},
   "outputs": [
    {
     "name": "stdout",
     "output_type": "stream",
     "text": [
      "Regularized cost: 0.6850849138741673\n"
     ]
    }
   ],
   "source": [
    "np.random.seed(1)\n",
    "X_tmp = np.random.rand(5,6)\n",
    "y_tmp = np.array([0,1,0,1,0])\n",
    "w_tmp = np.random.rand(X_tmp.shape[1]).reshape(-1,)-0.5\n",
    "b_tmp = 0.5\n",
    "lambda_tmp = 0.7\n",
    "cost_tmp = cost_logistic_regression_regularized(X_tmp, y_tmp, w_tmp, b_tmp, lambda_tmp)\n",
    "\n",
    "print(\"Regularized cost:\", cost_tmp)"
   ]
  },
  {
   "cell_type": "code",
   "execution_count": null,
   "id": "975023ae",
   "metadata": {},
   "outputs": [],
   "source": [
    "def compute_gradient_linear_regularized(X, y, w, b, lmb):\n",
    "  m, n = X.shape\n",
    "  dj_dw = np.zeros(n)\n",
    "  dj_db = 0\n",
    "  for i in range(m):\n",
    "    f_wb = np.dot(X[i], w) + b\n",
    "    err = f_wb - y[i]\n",
    "    for j in range(n):\n",
    "      dj_dw[j] = dj_dw[j] + err * X[i, j]\n",
    "    dj_db += err\n",
    "  dj_dw /= m\n",
    "  dj_db /= m\n",
    "  dj_dw = dj_dw + (lmb / m) * w\n",
    "  return dj_dw, dj_db"
   ]
  },
  {
   "cell_type": "code",
   "execution_count": 81,
   "id": "23a313b4",
   "metadata": {},
   "outputs": [
    {
     "name": "stdout",
     "output_type": "stream",
     "text": [
      "dj_db: [0.29653215 0.49116796 0.21645878]\n",
      "Regularized dj_dw:\n",
      " 0.6648774569425726\n"
     ]
    }
   ],
   "source": [
    "np.random.seed(1)\n",
    "X_tmp = np.random.rand(5,3)\n",
    "y_tmp = np.array([0,1,0,1,0])\n",
    "w_tmp = np.random.rand(X_tmp.shape[1])\n",
    "b_tmp = 0.5\n",
    "lambda_tmp = 0.7\n",
    "dj_db_tmp, dj_dw_tmp =  compute_gradient_linear_regularized(X_tmp, y_tmp, w_tmp, b_tmp, lambda_tmp)\n",
    "\n",
    "print(f\"dj_db: {dj_db_tmp}\", )\n",
    "print(f\"Regularized dj_dw:\\n {dj_dw_tmp.tolist()}\", )"
   ]
  },
  {
   "cell_type": "code",
   "execution_count": 82,
   "id": "3fffeec4",
   "metadata": {},
   "outputs": [],
   "source": [
    "def compute_gradient_logistic_regularized(X, y, w, b, lmb):\n",
    "  m, n = X.shape\n",
    "  dj_dw = np.zeros(n)\n",
    "  dj_db = 0\n",
    "  for i in range(m):\n",
    "    f_wb = this_sigmoid(np.dot(X[i], w) + b)\n",
    "    err = f_wb - y[i]\n",
    "    for j in range(n):\n",
    "      dj_dw[j] = dj_dw[j] + err * X[i, j]\n",
    "    dj_db += err\n",
    "  dj_dw /= m\n",
    "  dj_db /= m\n",
    "  \n",
    "  return dj_dw, dj_db"
   ]
  },
  {
   "cell_type": "code",
   "execution_count": 83,
   "id": "dd01361b",
   "metadata": {},
   "outputs": [
    {
     "name": "stdout",
     "output_type": "stream",
     "text": [
      "dj_db: [0.07993468 0.26165241 0.02954656]\n",
      "Regularized dj_dw:\n",
      " 0.341798994972791\n"
     ]
    }
   ],
   "source": [
    "np.random.seed(1)\n",
    "X_tmp = np.random.rand(5,3)\n",
    "y_tmp = np.array([0,1,0,1,0])\n",
    "w_tmp = np.random.rand(X_tmp.shape[1])\n",
    "b_tmp = 0.5\n",
    "lambda_tmp = 0.7\n",
    "dj_db_tmp, dj_dw_tmp =  compute_gradient_logistic_regularized(X_tmp, y_tmp, w_tmp, b_tmp, lambda_tmp)\n",
    "\n",
    "print(f\"dj_db: {dj_db_tmp}\", )\n",
    "print(f\"Regularized dj_dw:\\n {dj_dw_tmp.tolist()}\", )"
   ]
  },
  {
   "cell_type": "code",
   "execution_count": null,
   "id": "99a21dc0",
   "metadata": {},
   "outputs": [],
   "source": []
  }
 ],
 "metadata": {
  "kernelspec": {
   "display_name": ".venv",
   "language": "python",
   "name": "python3"
  },
  "language_info": {
   "codemirror_mode": {
    "name": "ipython",
    "version": 3
   },
   "file_extension": ".py",
   "mimetype": "text/x-python",
   "name": "python",
   "nbconvert_exporter": "python",
   "pygments_lexer": "ipython3",
   "version": "3.12.6"
  }
 },
 "nbformat": 4,
 "nbformat_minor": 5
}
