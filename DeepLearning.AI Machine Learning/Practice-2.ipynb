{
 "cells": [
  {
   "cell_type": "code",
   "execution_count": 1,
   "id": "0a3658e5",
   "metadata": {},
   "outputs": [],
   "source": [
    "import numpy as np\n",
    "import matplotlib.pyplot as plt\n",
    "import math"
   ]
  },
  {
   "cell_type": "code",
   "execution_count": 14,
   "id": "98fff3a0",
   "metadata": {},
   "outputs": [],
   "source": [
    "X_train_1 = np.array([1.0, 3.0])\n",
    "y_train_1 = np.array([400.0, 950.0])"
   ]
  },
  {
   "cell_type": "code",
   "execution_count": 15,
   "id": "d4f9a8a1",
   "metadata": {},
   "outputs": [],
   "source": [
    "def compute_model_output(X, w, b):\n",
    "  m = X.shape[0]\n",
    "  predictions = np.zeros(m)\n",
    "  for i in range(m):\n",
    "    f_wb = X[i] * w + b\n",
    "    predictions[i] = f_wb\n",
    "  return predictions"
   ]
  },
  {
   "cell_type": "code",
   "execution_count": 16,
   "id": "2fce652c",
   "metadata": {},
   "outputs": [],
   "source": [
    "def compute_cost(X, y, w, b):\n",
    "  m = X.shape[0]\n",
    "  total_cost = 0\n",
    "  for i in range(m):\n",
    "    f_wb = X[i] * w + b\n",
    "    err = (f_wb - y[i]) ** 2\n",
    "    total_cost += err\n",
    "  total_cost = total_cost / (2 * m)\n",
    "  return total_cost"
   ]
  },
  {
   "cell_type": "code",
   "execution_count": 23,
   "id": "ec22d820",
   "metadata": {},
   "outputs": [],
   "source": [
    "def compute_gradient(X, y, w, b):\n",
    "  m = X.shape[0]\n",
    "  dj_dw = 0\n",
    "  dj_db = 0\n",
    "  for i in range(m):\n",
    "    f_wb = X[i] * w + b\n",
    "    err = f_wb - y[i]\n",
    "    dj_dw += err * X[i]\n",
    "    dj_db += err\n",
    "  dj_dw /= m\n",
    "  dj_db /= m\n",
    "  return dj_dw, dj_db"
   ]
  },
  {
   "cell_type": "code",
   "execution_count": 25,
   "id": "e8c4b4e7",
   "metadata": {},
   "outputs": [],
   "source": [
    "def gradient_descent(X, y, w_init, b_init, iterations, alpha, gradient_function):\n",
    "  w = w_init\n",
    "  b = b_init\n",
    "  for i in range(iterations):\n",
    "    dj_dw, dj_db = gradient_function(X, y, w, b)\n",
    "    w = w - alpha * dj_dw\n",
    "    b = b - alpha * dj_db\n",
    "  return w, b"
   ]
  },
  {
   "cell_type": "code",
   "execution_count": 28,
   "id": "c81300cd",
   "metadata": {},
   "outputs": [
    {
     "name": "stdout",
     "output_type": "stream",
     "text": [
      "[400. 950.]\n"
     ]
    }
   ],
   "source": [
    "predictions = compute_model_output(X_train_1, 275, 125)\n",
    "print(predictions)"
   ]
  },
  {
   "cell_type": "code",
   "execution_count": 29,
   "id": "3b00e0f5",
   "metadata": {},
   "outputs": [
    {
     "name": "stdout",
     "output_type": "stream",
     "text": [
      "18125.0\n"
     ]
    }
   ],
   "source": [
    "print(compute_cost(X_train_1, y_train_1, 200, 100))"
   ]
  },
  {
   "cell_type": "code",
   "execution_count": 30,
   "id": "62f1a7a6",
   "metadata": {},
   "outputs": [
    {
     "name": "stdout",
     "output_type": "stream",
     "text": [
      "(np.float64(638.9166666666666), np.float64(269.1666666666667))\n"
     ]
    }
   ],
   "source": [
    "x_train = np.array([1.0, 1.7, 2.0, 2.5, 3.0, 3.2])   #features\n",
    "y_train = np.array([250, 300, 480,  430,   630, 730,])   #target value\n",
    "\n",
    "print(compute_gradient(x_train, y_train, 275, 125))"
   ]
  },
  {
   "cell_type": "code",
   "execution_count": 26,
   "id": "bbe266d5",
   "metadata": {},
   "outputs": [
    {
     "name": "stdout",
     "output_type": "stream",
     "text": [
      "209.3589503186303 2.4325457728079756\n"
     ]
    }
   ],
   "source": [
    "w_init = 0\n",
    "b_init = 0\n",
    "iterations = 10000\n",
    "alpha = 1.0e-2\n",
    "w_tmp, b_tmp = gradient_descent(x_train, y_train, w_init, b_init, iterations, alpha, compute_gradient)\n",
    "print(w_tmp, b_tmp)"
   ]
  },
  {
   "cell_type": "code",
   "execution_count": 21,
   "id": "e722e018",
   "metadata": {},
   "outputs": [
    {
     "data": {
      "image/png": "[encoded data removed]",
      "text/plain": [
       "<Figure size 640x480 with 1 Axes>"
      ]
     },
     "metadata": {},
     "output_type": "display_data"
    }
   ],
   "source": [
    "plt.plot(X_train_1, predictions, label=\"Our Predictions\")\n",
    "plt.scatter(X_train_1, y_train_1, marker=\"x\", color=\"red\", label=\"Actual Values\")\n",
    "plt.legend()\n",
    "plt.show()"
   ]
  }
 ],
 "metadata": {
  "kernelspec": {
   "display_name": ".venv",
   "language": "python",
   "name": "python3"
  },
  "language_info": {
   "codemirror_mode": {
    "name": "ipython",
    "version": 3
   },
   "file_extension": ".py",
   "mimetype": "text/x-python",
   "name": "python",
   "nbconvert_exporter": "python",
   "pygments_lexer": "ipython3",
   "version": "3.13.7"
  }
 },
 "nbformat": 4,
 "nbformat_minor": 5
}
