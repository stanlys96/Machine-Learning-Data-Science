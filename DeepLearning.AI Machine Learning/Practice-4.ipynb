{
 "cells": [
  {
   "cell_type": "code",
   "execution_count": 1,
   "id": "5c498683",
   "metadata": {},
   "outputs": [],
   "source": [
    "import numpy as np\n",
    "import matplotlib.pyplot as plt"
   ]
  },
  {
   "cell_type": "code",
   "execution_count": 2,
   "id": "ea8933ce",
   "metadata": {},
   "outputs": [],
   "source": [
    "X_train_1 = np.array([1.0, 3.0])\n",
    "y_train_1 = np.array([300.0, 500.0])"
   ]
  },
  {
   "cell_type": "code",
   "execution_count": 3,
   "id": "8c2103cf",
   "metadata": {},
   "outputs": [],
   "source": [
    "def compute_model_output(X, w, b):\n",
    "    m = X.shape[0]\n",
    "    predictions = np.zeros(m)\n",
    "    for i in range(m):\n",
    "        f_wb = X[i] * w + b\n",
    "        predictions[i] = f_wb\n",
    "    return predictions"
   ]
  },
  {
   "cell_type": "code",
   "execution_count": 7,
   "id": "a4d63d84",
   "metadata": {},
   "outputs": [],
   "source": [
    "def compute_model_error(X, y, w, b):\n",
    "    m = X.shape[0]\n",
    "    total_cost = 0\n",
    "    for i in range(m):\n",
    "        f_wb = X[i] * w + b\n",
    "        err = (f_wb - y[i]) ** 2\n",
    "        total_cost += err\n",
    "    total_cost = total_cost / (2 * m)\n",
    "    return total_cost"
   ]
  },
  {
   "cell_type": "code",
   "execution_count": 13,
   "id": "6cc2fac9",
   "metadata": {},
   "outputs": [],
   "source": [
    "def compute_gradient(X, y, w, b):\n",
    "    m = X.shape[0]\n",
    "    dj_dw = 0\n",
    "    dj_db = 0\n",
    "    for i in range(m):\n",
    "        f_wb = X[i] * w + b\n",
    "        err = f_wb - y[i]\n",
    "        dj_dw += err * X[i]\n",
    "        dj_db += err\n",
    "    dj_dw /= m\n",
    "    dj_db /= m\n",
    "    return dj_dw, dj_db"
   ]
  },
  {
   "cell_type": "code",
   "execution_count": 15,
   "id": "a9d51470",
   "metadata": {},
   "outputs": [],
   "source": [
    "def gradient_descent(X, y, w_init, b_init, iterations, alpha, gradient_function):\n",
    "    w = w_init\n",
    "    b = b_init\n",
    "    for i in range(iterations):\n",
    "        dj_dw, dj_db = gradient_function(X, y, w, b)\n",
    "        w = w - alpha * dj_dw\n",
    "        b = b - alpha * dj_db\n",
    "    return w, b"
   ]
  },
  {
   "cell_type": "code",
   "execution_count": 4,
   "id": "61bb845f",
   "metadata": {},
   "outputs": [
    {
     "name": "stdout",
     "output_type": "stream",
     "text": [
      "[300. 500.]\n"
     ]
    }
   ],
   "source": [
    "result = compute_model_output(X_train_1, 100, 200)\n",
    "print(result)"
   ]
  },
  {
   "cell_type": "code",
   "execution_count": 10,
   "id": "ad972d76",
   "metadata": {},
   "outputs": [
    {
     "name": "stdout",
     "output_type": "stream",
     "text": [
      "1736.2683333333327\n"
     ]
    }
   ],
   "source": [
    "x_train = np.array([1.0, 1.7, 2.0, 2.5, 3.0, 3.2])\n",
    "y_train = np.array([250, 300, 480, 430, 630, 730,])\n",
    "print(compute_model_error(x_train, y_train, 209, 2.4))"
   ]
  },
  {
   "cell_type": "code",
   "execution_count": 14,
   "id": "479c96c1",
   "metadata": {},
   "outputs": [
    {
     "name": "stdout",
     "output_type": "stream",
     "text": [
      "(np.float64(-167.16666666666666), np.float64(-46.666666666666664))\n"
     ]
    }
   ],
   "source": [
    "print(compute_gradient(x_train, y_train, 100, 200))"
   ]
  },
  {
   "cell_type": "code",
   "execution_count": 17,
   "id": "633ea057",
   "metadata": {},
   "outputs": [
    {
     "name": "stdout",
     "output_type": "stream",
     "text": [
      "(np.float64(209.3589503186303), np.float64(2.4325457728079756))\n"
     ]
    }
   ],
   "source": [
    "print(gradient_descent(x_train, y_train, 0, 0, 10000, 1.0e-2, compute_gradient))"
   ]
  },
  {
   "cell_type": "code",
   "execution_count": 6,
   "id": "add8c4ec",
   "metadata": {},
   "outputs": [
    {
     "data": {
      "image/png": "[encoded data removed]",
      "text/plain": [
       "<Figure size 640x480 with 1 Axes>"
      ]
     },
     "metadata": {},
     "output_type": "display_data"
    }
   ],
   "source": [
    "plt.scatter(X_train_1, y_train_1, marker=\"x\", c=\"red\")\n",
    "plt.plot(X_train_1, result)\n",
    "plt.show()"
   ]
  }
 ],
 "metadata": {
  "kernelspec": {
   "display_name": ".venv (3.13.2)",
   "language": "python",
   "name": "python3"
  },
  "language_info": {
   "codemirror_mode": {
    "name": "ipython",
    "version": 3
   },
   "file_extension": ".py",
   "mimetype": "text/x-python",
   "name": "python",
   "nbconvert_exporter": "python",
   "pygments_lexer": "ipython3",
   "version": "3.13.2"
  }
 },
 "nbformat": 4,
 "nbformat_minor": 5
}
