{
 "cells": [
  {
   "cell_type": "code",
   "execution_count": 1,
   "id": "cbc7bfc7",
   "metadata": {},
   "outputs": [],
   "source": [
    "import numpy as np\n",
    "import matplotlib.pyplot as plt"
   ]
  },
  {
   "cell_type": "code",
   "execution_count": 2,
   "id": "1eae5017",
   "metadata": {},
   "outputs": [],
   "source": [
    "X_train_1 = np.array([1.0, 3.0])\n",
    "y_train_1 = np.array([300.0, 500.0])"
   ]
  },
  {
   "cell_type": "code",
   "execution_count": 3,
   "id": "4f823d14",
   "metadata": {},
   "outputs": [],
   "source": [
    "def compute_model_output(X, w, b):\n",
    "    m = X.shape[0]\n",
    "    predictions = np.zeros(m)\n",
    "    for i in range(m):\n",
    "        predictions[i] = X[i] * w + b\n",
    "    return predictions"
   ]
  },
  {
   "cell_type": "code",
   "execution_count": 7,
   "id": "e711d186",
   "metadata": {},
   "outputs": [],
   "source": [
    "results = compute_model_output(X_train_1, 100, 200)"
   ]
  },
  {
   "cell_type": "code",
   "execution_count": 9,
   "id": "549621d7",
   "metadata": {},
   "outputs": [
    {
     "data": {
      "image/png": "[encoded data removed]",
      "text/plain": [
       "<Figure size 640x480 with 1 Axes>"
      ]
     },
     "metadata": {},
     "output_type": "display_data"
    }
   ],
   "source": [
    "plt.scatter(X_train_1, y_train_1, marker=\"x\", c=\"red\", label=\"Actual\")\n",
    "plt.plot(X_train_1, results, label=\"Prediction\")\n",
    "plt.legend()\n",
    "plt.show()"
   ]
  },
  {
   "cell_type": "code",
   "execution_count": 10,
   "id": "925e5576",
   "metadata": {},
   "outputs": [],
   "source": [
    "def compute_cost(X, y, w, b):\n",
    "    m = X.shape[0]\n",
    "    total_cost = 0\n",
    "    for i in range(m):\n",
    "        f_wb = X[i] * w + b\n",
    "        err = (f_wb - y[i]) ** 2\n",
    "        total_cost += err\n",
    "    total_cost /= 2 * m\n",
    "    return total_cost"
   ]
  },
  {
   "cell_type": "code",
   "execution_count": 12,
   "id": "1ba48e5f",
   "metadata": {},
   "outputs": [
    {
     "name": "stdout",
     "output_type": "stream",
     "text": [
      "53125.0\n"
     ]
    }
   ],
   "source": [
    "print(compute_cost(np.array([1.0, 3.0]), np.array([400.0, 950.0]), 100, 200))"
   ]
  },
  {
   "cell_type": "code",
   "execution_count": 13,
   "id": "83d67224",
   "metadata": {},
   "outputs": [],
   "source": [
    "def compute_gradient(X, y, w, b):\n",
    "    m = X.shape[0]\n",
    "    dj_dw = 0\n",
    "    dj_db = 0\n",
    "    for i in range(m):\n",
    "        f_wb = X[i] * w + b\n",
    "        err = f_wb - y[i]\n",
    "        dj_dw += err * X[i]\n",
    "        dj_db += err\n",
    "    dj_dw /= m\n",
    "    dj_db /= m\n",
    "    return dj_dw, dj_db"
   ]
  },
  {
   "cell_type": "code",
   "execution_count": 14,
   "id": "3341fb9e",
   "metadata": {},
   "outputs": [
    {
     "name": "stdout",
     "output_type": "stream",
     "text": [
      "(np.float64(-167.16666666666666), np.float64(-46.666666666666664))\n"
     ]
    }
   ],
   "source": [
    "x_train = np.array([1.0, 1.7, 2.0, 2.5, 3.0, 3.2])   #features\n",
    "y_train = np.array([250, 300, 480,  430,   630, 730,])   #target value\n",
    "print(compute_gradient(x_train, y_train, 100, 200))"
   ]
  },
  {
   "cell_type": "code",
   "execution_count": 15,
   "id": "167db101",
   "metadata": {},
   "outputs": [],
   "source": [
    "def gradient_descent(X, y, w_init, b_init, iterations, alpha, gradient_function):\n",
    "    w = w_init\n",
    "    b = b_init\n",
    "    for _ in range(iterations):\n",
    "        dj_dw, dj_db = gradient_function(X, y, w, b)\n",
    "        w = w - alpha * dj_dw\n",
    "        b = b - alpha * dj_db\n",
    "    return w, b"
   ]
  },
  {
   "cell_type": "code",
   "execution_count": 16,
   "id": "bd00a13b",
   "metadata": {},
   "outputs": [
    {
     "name": "stdout",
     "output_type": "stream",
     "text": [
      "(np.float64(209.3589503186303), np.float64(2.4325457728079756))\n"
     ]
    }
   ],
   "source": [
    "print(gradient_descent(x_train, y_train, 0, 0, 10000, 1.0e-2, compute_gradient))"
   ]
  },
  {
   "cell_type": "code",
   "execution_count": null,
   "id": "547103a4",
   "metadata": {},
   "outputs": [],
   "source": []
  }
 ],
 "metadata": {
  "kernelspec": {
   "display_name": ".venv (3.13.2)",
   "language": "python",
   "name": "python3"
  },
  "language_info": {
   "codemirror_mode": {
    "name": "ipython",
    "version": 3
   },
   "file_extension": ".py",
   "mimetype": "text/x-python",
   "name": "python",
   "nbconvert_exporter": "python",
   "pygments_lexer": "ipython3",
   "version": "3.13.2"
  }
 },
 "nbformat": 4,
 "nbformat_minor": 5
}
