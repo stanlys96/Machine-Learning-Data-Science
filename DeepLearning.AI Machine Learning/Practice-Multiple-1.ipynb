{
 "cells": [
  {
   "cell_type": "code",
   "execution_count": 1,
   "id": "2893132d",
   "metadata": {},
   "outputs": [],
   "source": [
    "import numpy as np"
   ]
  },
  {
   "cell_type": "code",
   "execution_count": 2,
   "id": "6c77dfee",
   "metadata": {},
   "outputs": [],
   "source": [
    "X_train = np.array([[2104, 5, 1, 45], [1416, 3, 2, 40], [852, 2, 1, 35]])\n",
    "y_train = np.array([470, 212, 200])\n",
    "b_init = 785.1811367994083\n",
    "w_init = np.array([ 0.39133535, 18.75376741, -53.36032453, -26.42131618])\n",
    "# initialize parameters\n",
    "initial_w = np.zeros_like(w_init)\n",
    "initial_b = 0.\n",
    "# some gradient descent settings\n",
    "iterations = 1000\n",
    "alpha = 5.0e-7"
   ]
  },
  {
   "cell_type": "code",
   "execution_count": 3,
   "id": "7347f1d3",
   "metadata": {},
   "outputs": [],
   "source": [
    "def compute_model_output(X, w, b):\n",
    "    m = X.shape[0]\n",
    "    predictions = np.zeros(m)\n",
    "    for i in range(m):\n",
    "        predictions[i] = np.dot(X[i], w) + b\n",
    "    return predictions"
   ]
  },
  {
   "cell_type": "code",
   "execution_count": 4,
   "id": "7c83dd50",
   "metadata": {},
   "outputs": [
    {
     "name": "stdout",
     "output_type": "stream",
     "text": [
      "[459.99999762 231.99999837 177.99999899]\n"
     ]
    }
   ],
   "source": [
    "print(compute_model_output(X_train, w_init, b_init))"
   ]
  },
  {
   "cell_type": "code",
   "execution_count": 5,
   "id": "3523de04",
   "metadata": {},
   "outputs": [],
   "source": [
    "def compute_gradient(X, y, w, b):\n",
    "    m = X.shape[0]\n",
    "    n = X.shape[1]\n",
    "    dj_dw = np.zeros(n)\n",
    "    dj_db = 0\n",
    "    for i in range(m):\n",
    "        f_wb = np.dot(X[i], w) + b\n",
    "        err = f_wb - y[i]\n",
    "        for j in range(n):\n",
    "            current_val = X[i, j]\n",
    "            dj_dw[j] = dj_dw[j] + current_val * err\n",
    "        dj_db += err\n",
    "    dj_dw /= m\n",
    "    dj_db /= m\n",
    "    return dj_dw, dj_db\n"
   ]
  },
  {
   "cell_type": "code",
   "execution_count": 6,
   "id": "7094d2ca",
   "metadata": {},
   "outputs": [],
   "source": [
    "def compute_cost(X, y, w, b):\n",
    "    m = X.shape[0]\n",
    "    total_cost = 0\n",
    "    for i in range(m):\n",
    "        f_wb = np.dot(X[i], w) + b\n",
    "        err = (f_wb - y[i]) ** 2\n",
    "        total_cost += err\n",
    "    total_cost /= 2 * m\n",
    "    return total_cost"
   ]
  },
  {
   "cell_type": "code",
   "execution_count": 7,
   "id": "b0248f40",
   "metadata": {},
   "outputs": [],
   "source": [
    "def gradient_descent(X, y, w_init, b_init, cost_function, gradient_function, alpha, iterations):\n",
    "    w = w_init\n",
    "    b = b_init\n",
    "    for i in range(iterations):\n",
    "        dj_dw, dj_db = gradient_function(X, y, w, b)\n",
    "        w = w - alpha * dj_dw\n",
    "        b = b - alpha * dj_db\n",
    "    return w, b"
   ]
  },
  {
   "cell_type": "code",
   "execution_count": 8,
   "id": "8083aa99",
   "metadata": {},
   "outputs": [
    {
     "name": "stdout",
     "output_type": "stream",
     "text": [
      "dj_db at initial w,b: -4.000001673925112\n",
      "dj_dw at initial w,b: \n",
      " [-3.82133606e+03 -1.13333396e+01  2.66666445e+00 -1.40000069e+02]\n"
     ]
    }
   ],
   "source": [
    "tmp_dj_dw, tmp_dj_db = compute_gradient(X_train, y_train, w_init, b_init)\n",
    "print(f'dj_db at initial w,b: {tmp_dj_db}')\n",
    "print(f'dj_dw at initial w,b: \\n {tmp_dj_dw}')"
   ]
  },
  {
   "cell_type": "code",
   "execution_count": 9,
   "id": "58b23a02",
   "metadata": {},
   "outputs": [
    {
     "name": "stdout",
     "output_type": "stream",
     "text": [
      "164.0000044757007\n"
     ]
    }
   ],
   "source": [
    "print(compute_cost(X_train, y_train, w_init, b_init))"
   ]
  },
  {
   "cell_type": "code",
   "execution_count": 10,
   "id": "c6b779b4",
   "metadata": {},
   "outputs": [
    {
     "name": "stdout",
     "output_type": "stream",
     "text": [
      "b,w found by gradient descent: -0.00,[ 0.20503007  0.00502456 -0.01414997 -0.04465816] \n",
      "prediction: 429.38, target value: 470\n",
      "prediction: 288.52, target value: 212\n",
      "prediction: 173.12, target value: 200\n"
     ]
    }
   ],
   "source": [
    "# run gradient descent \n",
    "w_final, b_final = gradient_descent(X_train, y_train, initial_w, initial_b,\n",
    "                                                    compute_cost, compute_gradient, \n",
    "                                                    alpha, iterations)\n",
    "print(f\"b,w found by gradient descent: {b_final:0.2f},{w_final} \")\n",
    "m,_ = X_train.shape\n",
    "for i in range(m):\n",
    "    print(f\"prediction: {np.dot(X_train[i], w_final) + b_final:0.2f}, target value: {y_train[i]}\")"
   ]
  },
  {
   "cell_type": "code",
   "execution_count": null,
   "id": "ad0934ee",
   "metadata": {},
   "outputs": [],
   "source": []
  }
 ],
 "metadata": {
  "kernelspec": {
   "display_name": ".venv (3.13.2)",
   "language": "python",
   "name": "python3"
  },
  "language_info": {
   "codemirror_mode": {
    "name": "ipython",
    "version": 3
   },
   "file_extension": ".py",
   "mimetype": "text/x-python",
   "name": "python",
   "nbconvert_exporter": "python",
   "pygments_lexer": "ipython3",
   "version": "3.13.2"
  }
 },
 "nbformat": 4,
 "nbformat_minor": 5
}
