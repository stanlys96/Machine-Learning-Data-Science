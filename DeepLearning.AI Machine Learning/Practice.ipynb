{
 "cells": [
  {
   "cell_type": "code",
   "execution_count": 44,
   "metadata": {},
   "outputs": [],
   "source": [
    "import numpy as np\n",
    "import matplotlib.pyplot as plt\n",
    "import math"
   ]
  },
  {
   "cell_type": "code",
   "execution_count": 45,
   "metadata": {},
   "outputs": [],
   "source": [
    "X_train = np.array([1.0, 3.0])\n",
    "y_train = np.array([400.0, 950.0])"
   ]
  },
  {
   "cell_type": "code",
   "execution_count": 46,
   "metadata": {},
   "outputs": [],
   "source": [
    "def compute_model_output(X, w, b):\n",
    "  m = X.shape[0]\n",
    "  predictions = np.zeros(m)\n",
    "  for i in range(m):\n",
    "    f_wb = X[i] * w + b\n",
    "    predictions[i] = f_wb\n",
    "  return predictions"
   ]
  },
  {
   "cell_type": "code",
   "execution_count": 47,
   "metadata": {},
   "outputs": [],
   "source": [
    "def compute_error(X, y, w, b):\n",
    "  m = X.shape[0]\n",
    "  total_cost = 0\n",
    "  for i in range(m):\n",
    "    f_wb = X[i] * w + b\n",
    "    err = f_wb - y[i]\n",
    "    total_cost += err ** 2\n",
    "  total_cost = total_cost / (2 * m)\n",
    "  return total_cost"
   ]
  },
  {
   "cell_type": "code",
   "execution_count": 48,
   "metadata": {},
   "outputs": [],
   "source": [
    "def compute_gradient(X, y, w, b):\n",
    "  m = X.shape[0]\n",
    "  dj_dw = 0\n",
    "  dj_db = 0\n",
    "  for i in range(m):\n",
    "    f_wb = X[i] * w + b\n",
    "    err = f_wb - y[i]\n",
    "    dj_dw += err * X[i]\n",
    "    dj_db += err\n",
    "  dj_dw = dj_dw / m\n",
    "  dj_db = dj_db / m\n",
    "  return dj_dw, dj_db"
   ]
  },
  {
   "cell_type": "code",
   "execution_count": 49,
   "metadata": {},
   "outputs": [],
   "source": [
    "def gradient_descent(X, y, w_init, b_init, iterations, alpha, gradient_function):\n",
    "  w = w_init\n",
    "  b = b_init\n",
    "  for i in range(iterations):\n",
    "    dj_dw, dj_db = gradient_function(X, y, w, b)\n",
    "    w = w - alpha * dj_dw\n",
    "    b = b - alpha * dj_db\n",
    "    if i % math.ceil(iterations / 10) == 0:\n",
    "      print(f\"Iteration {i}: w = {w}, b = {b}\")\n",
    "  return w, b"
   ]
  },
  {
   "cell_type": "code",
   "execution_count": 50,
   "metadata": {},
   "outputs": [
    {
     "name": "stdout",
     "output_type": "stream",
     "text": [
      "Iteration 0: w = 11.701666666666668, b = 4.7\n",
      "Iteration 1000: w = 197.44663545713004, b = 31.632492245930393\n",
      "Iteration 2000: w = 204.4663126053129, b = 14.425576598661701\n",
      "Iteration 3000: w = 207.35082432551891, b = 7.354945171404292\n",
      "Iteration 4000: w = 208.5361221231761, b = 4.449495420562088\n",
      "Iteration 5000: w = 209.02318232795508, b = 3.255593809154985\n",
      "Iteration 6000: w = 209.22332413497463, b = 2.7649981424056778\n",
      "Iteration 7000: w = 209.30556600676786, b = 2.5634035504113033\n",
      "Iteration 8000: w = 209.33936067254402, b = 2.4805647031164213\n",
      "Iteration 9000: w = 209.3532475091398, b = 2.4465247293588033\n",
      "209.3589503186303 2.4325457728079756\n"
     ]
    }
   ],
   "source": [
    "w_init = 0\n",
    "b_init = 0\n",
    "iterations = 10000\n",
    "alpha = 1.0e-2\n",
    "x_train = np.array([1.0, 1.7, 2.0, 2.5, 3.0, 3.2])   #features\n",
    "y_train = np.array([250, 300, 480,  430,   630, 730,])   #target value\n",
    "tmp_w, tmp_b = gradient_descent(x_train, y_train, w_init, b_init, iterations, alpha, compute_gradient)\n",
    "print(tmp_w, tmp_b)"
   ]
  },
  {
   "cell_type": "code",
   "execution_count": 21,
   "metadata": {},
   "outputs": [
    {
     "name": "stdout",
     "output_type": "stream",
     "text": [
      "[400. 950.]\n"
     ]
    }
   ],
   "source": [
    "print(compute_model_output(X_train, 275, 125))"
   ]
  },
  {
   "cell_type": "code",
   "execution_count": 24,
   "metadata": {},
   "outputs": [
    {
     "name": "stdout",
     "output_type": "stream",
     "text": [
      "4700.0\n"
     ]
    }
   ],
   "source": [
    "x_train = np.array([1.0, 1.7, 2.0, 2.5, 3.0, 3.2])   #features\n",
    "y_train = np.array([250, 300, 480,  430,   630, 730,])   #target value\n",
    "print(compute_error(x_train, y_train, 200, 100))"
   ]
  },
  {
   "cell_type": "code",
   "execution_count": 27,
   "metadata": {},
   "outputs": [
    {
     "name": "stdout",
     "output_type": "stream",
     "text": [
      "(np.float64(638.9166666666666), np.float64(269.1666666666667))\n"
     ]
    }
   ],
   "source": [
    "print(compute_gradient(x_train, y_train, 275, 125))"
   ]
  }
 ],
 "metadata": {
  "kernelspec": {
   "display_name": ".venv",
   "language": "python",
   "name": "python3"
  },
  "language_info": {
   "codemirror_mode": {
    "name": "ipython",
    "version": 3
   },
   "file_extension": ".py",
   "mimetype": "text/x-python",
   "name": "python",
   "nbconvert_exporter": "python",
   "pygments_lexer": "ipython3",
   "version": "3.13.7"
  },
  "orig_nbformat": 4
 },
 "nbformat": 4,
 "nbformat_minor": 2
}
