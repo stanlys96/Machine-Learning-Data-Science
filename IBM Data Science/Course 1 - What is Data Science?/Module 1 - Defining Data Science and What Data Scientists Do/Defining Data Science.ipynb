{
 "cells": [
  {
   "cell_type": "markdown",
   "id": "1b087e69",
   "metadata": {},
   "source": [
    "Lesson Overview: Defining Data Science\n",
    "\n",
    "In this lesson, “Defining Data Science,” you begin your journey with an introduction to Data Science. Through the videos in this lesson, you will learn what data science is, the data scientist’s role in an organization, and what makes a skilled data scientist. You will hear from experts on how to acquire these skills.\n",
    "\n",
    "“What is Data Science” video\n",
    "\n",
    "Hear from data science experts in the field explaining what data science is to them.\n",
    "\n",
    "“Fundamentals of Data Science” video\n",
    "\n",
    "\n",
    "This animated video touches upon some of the core attributes of data science, such as data analysis, varied sources of data, the data science process, the qualities of a good data scientist, and the role of a data scientist in an organization.\n",
    "\n",
    "“The Many Paths to Data Science” video\n",
    "\n",
    "Hear from graduate students and professionals discuss what led them into the field and why data science is a good fit for them.\n",
    "\n",
    "“The sexiest job in the 21st Century” reading\n",
    "\n",
    "Read an excerpt from the “Getting Started with Data Science” textbook and learn about the qualities of data science that attract people to the profession.\n",
    "\n",
    "Practice quiz\n",
    "\n",
    "Test your understanding of the previous reading.\n",
    "\n",
    "“Advice for New Data Scientists” video\n",
    "\n",
    "Hear from professor and author Dr. Murtaza Haider, PhD, an associate professor from the Ted Rogers School of Management, give his perspective on how to gain a competitive analysis in the data science field.\n",
    "\n",
    "Practice quiz\n",
    "\n",
    "Take a practice quiz to evaluate how well you’ve understood the material presented in this lesson.\n",
    "\n",
    "Glossary\n",
    "\n",
    "Use this glossary of terms to review the terminology presented in this lesson.\n",
    "\n",
    "Graded quiz\n",
    "\n",
    "Test your knowledge from this lesson by taking the graded quiz."
   ]
  }
 ],
 "metadata": {
  "language_info": {
   "name": "python"
  }
 },
 "nbformat": 4,
 "nbformat_minor": 5
}
