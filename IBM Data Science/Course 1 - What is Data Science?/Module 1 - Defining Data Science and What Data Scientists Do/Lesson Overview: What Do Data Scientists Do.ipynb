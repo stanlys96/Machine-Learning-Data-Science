{
 "cells": [
  {
   "cell_type": "markdown",
   "id": "5965ac66",
   "metadata": {},
   "source": [
    "Lesson Overview: What Do Data Scientists Do?\n",
    "\n",
    "In the lesson \"What Do Data Scientists Do?\" you’ll dive into data science. The first video shows a day in the life of data scientists. You’ll also learn essential skills for becoming a good data scientist and why big data matters. You’ll explore handling different file types, study data science topics, and algorithms, and discuss the qualities that define a data scientist. The lesson ends with a summary video and a quiz to ensure you grasp this dynamic field.\n",
    "\n",
    "“A Day in the Life of a Data Scientist” video\n",
    "\n",
    "Gain firsthand insights into the daily routines and challenges faced by data scientists, providing a practical glimpse into their roles.\n",
    "\n",
    "“Data Science Skills and Big Data” video\n",
    "\n",
    "\n",
    "Delve into the core skills required in the data science profession and understand the significance of big data in contemporary data analysis.\n",
    "\n",
    "“Working on Different File Formats” video\n",
    "\n",
    "Explore the intricacies of handling diverse file formats, a crucial skill for data scientists when dealing with various data sources.\n",
    "\n",
    "“Data Science Topics and Algorithms” video\n",
    "\n",
    "Dive into essential data science topics and algorithms that form the foundation of data analysis and decision-making.\n",
    "\n",
    "Discussion Prompt: Introduce Yourself\n",
    "\n",
    "Engage with fellow learners by introducing yourself, fostering a sense of community and collaborative learning.\n",
    "\n",
    "“What Makes Someone a Data Scientist?” reading\n",
    "\n",
    "Read an excerpt from \"What Makes Someone a Data Scientist?\" where the author addresses the ongoing debates surrounding the definition of data science and the elusive identity of a data scientist. \n",
    "\n",
    "“Lesson Summary” video\n",
    "\n",
    "Summarize and reinforce your understanding of the key concepts covered in the lesson, ensuring a comprehensive grasp of the material.\n",
    "\n",
    "Practice quiz\n",
    "\n",
    "Test your understanding of the previous reading.\n",
    "\n",
    "Glossary\n",
    "\n",
    "Use this glossary of terms to review the terminology presented in this lesson.\n",
    "\n",
    "Graded quiz\n",
    "\n",
    "Test your knowledge from this lesson by taking the graded quiz."
   ]
  }
 ],
 "metadata": {
  "language_info": {
   "name": "python"
  }
 },
 "nbformat": 4,
 "nbformat_minor": 5
}
