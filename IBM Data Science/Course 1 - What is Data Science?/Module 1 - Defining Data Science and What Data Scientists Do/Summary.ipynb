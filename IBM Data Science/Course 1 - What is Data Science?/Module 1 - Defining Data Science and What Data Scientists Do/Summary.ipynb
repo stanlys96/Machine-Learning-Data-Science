{
 "cells": [
  {
   "cell_type": "markdown",
   "id": "6ebb8e40",
   "metadata": {},
   "source": [
    "Summary: What Do Data Scientists Do?\n",
    "\n",
    "Congratulations! You have completed this lesson. At this point in the course, you know: \n",
    "\n",
    "- Data science is the study of large quantities of data, which can reveal insights that help organizations make strategic choices.\n",
    "\n",
    "- There are many paths to a career in data science; most, but not all, involve math, programming, and curiosity about data.\n",
    "\n",
    "- New data scientists need to be curious, judgemental and argumentative.\n",
    "\n",
    "- Knowledgeable data scientists are in high demand. Jobs in data science pays high salaries for skilled workers.\n",
    "\n",
    "- The typical work day for a Data Scientist varies depending on what type of project they are working on.\n",
    "\n",
    "- Many algorithms are used to bring out insights from data. \n",
    "\n",
    "- Some key data science related terms you learned in this lesson include: outliers, model, algorithms, JSON, XML. CSV, and regression."
   ]
  }
 ],
 "metadata": {
  "language_info": {
   "name": "python"
  }
 },
 "nbformat": 4,
 "nbformat_minor": 5
}
