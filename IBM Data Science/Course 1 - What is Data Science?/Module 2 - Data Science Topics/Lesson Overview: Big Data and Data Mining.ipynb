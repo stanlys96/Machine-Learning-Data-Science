{
 "cells": [
  {
   "cell_type": "markdown",
   "id": "cff76204",
   "metadata": {},
   "source": [
    "Lesson Overview: Big Data and Data Mining\n",
    "\n",
    "In the 'Big Data and Data Mining' lesson, delve into the world of digital transformation driven by Big Data. Explore Cloud Computing's role, foundational Big Data concepts, tools like Hadoop and Spark, and gain insights into Data Mining techniques for informed decision-making.\n",
    "\n",
    "\"How Big Data is Driving Digital Transformation\" video\n",
    "\n",
    "Explore the impact of Big Data on digital transformation.\n",
    "\n",
    "\"Introduction to Cloud\" video\n",
    "\n",
    "Get introduced to the fundamentals of cloud computing.\n",
    "\n",
    "\"Cloud for Data Science\" video\n",
    "\n",
    "Learn how the cloud is relevant in the field of data science.\n",
    "\n",
    "\"Foundations of Big Data\" video\n",
    "\n",
    "Build your understanding of key Big Data concepts.\n",
    "\n",
    "\"Data Scientists at New York University\" video\n",
    "\n",
    "Discover the work of data scientists at New York University.\n",
    "\n",
    "\"What is Hadoop?\" video\n",
    "\n",
    "Understand the significance of Hadoop in Big Data processing.\n",
    "\n",
    "\"Big Data Processing Tools: Hadoop, HDFS, Hive, and Spark\" video\n",
    "\n",
    "Dive into the tools used for Big Data processing.\n",
    "\n",
    "\"Data Mining\" reading\n",
    "\n",
    "Read an excerpt on data mining explore the principles and concepts of data mining.\n",
    "\n",
    "Practice quiz\n",
    "\n",
    "Take a practice quiz to evaluate how well you’ve understood the material presented in this lesson.\n",
    "\n",
    "Glossary\n",
    "\n",
    "Use this glossary of terms to review the terminology presented in this lesson.\n",
    "\n",
    "Graded quiz\n",
    "\n",
    "Test your knowledge from this lesson by taking the graded quiz."
   ]
  }
 ],
 "metadata": {
  "language_info": {
   "name": "python"
  }
 },
 "nbformat": 4,
 "nbformat_minor": 5
}
