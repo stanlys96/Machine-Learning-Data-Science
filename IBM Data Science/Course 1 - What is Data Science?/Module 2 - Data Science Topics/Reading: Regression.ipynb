{
 "cells": [
  {
   "cell_type": "markdown",
   "id": "f93473f1",
   "metadata": {},
   "source": [
    "Course Text Book: 'Getting Started with Data Science' Publisher: IBM Press; 1 edition (Dec 13 2015) Print.\n",
    "\n",
    "Author: Murtaza Haider\n",
    "\n",
    "![Book](./img/Book.png)\n",
    "\n",
    "Prescribed Reading: Chapter 7 Pg. 235-236\n",
    "\n",
    "Chapter 7. Why Tall Parents Don't Have Even Taller Children\n",
    "You might have noticed that taller parents often have tall children who are not necessarily taller than their parents and that's a good thing. This is not to suggest that children born to tall parents are not necessarily taller than the rest. That may be the case, but they are not necessarily taller than their own \"tall\" parents. Why I think this to be a good thing requires a simple mental simulation. Imagine if every successive generation born to tall parents were taller than their parents, in a matter of a couple of millennia, human beings would become uncomfortably tall for their own good, requiring even bigger furniture, cars, and planes.\n",
    "\n",
    "Sir Frances Galton in 1886 studied the same question and landed upon a statistical technique we today know as regression models. This chapter explores the workings of regression models, which have become the workhorse of statistical analysis. In almost all empirical pursuits of research, either in the academic or professional fields, the use of regression models, or their variants, is ubiquitous. In medical science, regression models are being used to develop more effective medicines, improve the methods for operations, and optimize resources for small and large hospitals. In the business world, regression models are at the forefront of analyzing consumer behavior, firm productivity, and competitiveness of public and private sector entities.\n",
    "\n",
    "I would like to introduce regression models by narrating a story about my Master's thesis. I believe that this story can help explain the utility of regression models.\n",
    "\n",
    "The Department of Obvious Conclusions\n",
    "In 1999, I finished my Masters' research on developing hedonic price models for residential real estate properties. It took me three years to complete the project involving 500,000 real estate transactions. As I was getting ready for the defense, my wife generously offered to drive me to the university. While we were on our way, she asked, \"Tell me, what have you found in your research?\". I was delighted to be finally asked to explain what I have been up to for the past three years. \"Well, I have been studying the determinants of housing prices. I have found that larger homes sell for more than smaller homes,\" I told my wife with a triumphant look on my face as I held the draft of the thesis in my hands.\n",
    "\n",
    "We were approaching the on-ramp for a highway. As soon as I finished the sentence, my wife suddenly turned the car to the shoulder and applied brakes. As the car stopped, she turned to me and said: \"I can't believe that they are giving you a Master's degree for finding just that. I could have told you that larger homes sell for more than smaller homes.\"\n",
    "\n",
    "At that very moment, I felt like a professor who taught at the department of obvious conclusions. How can I blame her for being shocked that what is commonly known about housing prices will earn me a Master's degree from a university of high repute?\n",
    "\n",
    "I requested my wife to resume driving so that I could take the next ten minutes to explain to her the intricacies of my research. She gave me five minutes instead, thinking this may not require even that. I settled for five and spent the next minute collecting my thoughts. I explained to her that my research has not just found the correlation between housing prices and the size of housing units, but I have also discovered the magnitude of those relationships. For instance, I found that all else being equal, a term that I explain later in this chapter, an additional washroom adds more to the housing price than an additional bedroom. Stated otherwise, the marginal increase in the price of a house is higher for an additional washroom than for an additional bedroom. I found later that the real estate brokers in Toronto indeed appreciated this finding.\n",
    "\n",
    "I also explained to my wife that proximity to transport infrastructure, such as subways, resulted in higher housing prices. For instance, houses situated closer to subways sold for more than did those situated farther away. However, houses near freeways or highways sold for less than others did. Similarly, I also discovered that proximity to large shopping centers had a nonlinear impact on housing prices. Houses located very close (less than 2.5 km) to the shopping centers sold for less than the rest. However, houses located closer (less than 5 km, but more than 2.5 km) to the shopping center sold for more than did those located farther away. I also found that the housing values in Toronto declined with distance from downtown.\n",
    "\n",
    "As I explained my contributions to the study of housing markets, I noticed that my wife was mildly impressed. The likely reason for her lukewarm reception was that my findings confirmed what we already knew from our everyday experience. However, the real value added by the research rested in quantifying the magnitude of those relationships.\n",
    "\n",
    "Why Regress?\n",
    "\n",
    "A whole host of questions could be put to regression analysis. Some examples of questions that regression (hedonic) models could address include:\n",
    "\n",
    "- How much more can a house sell for an additional bedroom?\n",
    "\n",
    "- What is the impact of lot size on housing price?\n",
    "\n",
    "- Do homes with brick exteriors sell for less than homes with stone exteriors?\n",
    "\n",
    "- How much does a finished basement contribute to the price of a housing unit?\n",
    "\n",
    "- Do houses located near high-voltage power lines sell for more or less than the rest?"
   ]
  }
 ],
 "metadata": {
  "language_info": {
   "name": "python"
  }
 },
 "nbformat": 4,
 "nbformat_minor": 5
}
