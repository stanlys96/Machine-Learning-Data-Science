{
 "cells": [
  {
   "cell_type": "markdown",
   "id": "18f776a4",
   "metadata": {},
   "source": [
    "Summary: Deep Learning and Machine Learning\n",
    "\n",
    "Congratulations! You have completed this lesson. At this point in the course, you know: \n",
    "\n",
    "- Big Data has five characteristics:  velocity, volume, variety, veracity, and value.\n",
    "\n",
    "- The five cloud computing characteristics are on-demand self-service, broad network access, resource pooling,   rapid elasticity, and measured service. \n",
    "\n",
    "- Data mining has a six-step process: goal setting, selecting data sources, preprocessing, transforming, mining, and evaluation. \n",
    "\n",
    "- The availability of so many disparate amounts of data created by people, tools, and machines requires new, innovative, and scalable technology to drive transformation.\n",
    "\n",
    "- Deep learning utilizes neural networks to teach itself patterns in inputs and outputs. Machine learning is a subset of AI that uses computer algorithms to learn about data and make predictions without explicitly programming the analysis methods into the system.   \n",
    "\n",
    "- Regression identifies the strength and amount of the correlation between one or more inputs and an output.\n",
    "\n",
    "- Skills involved in processing Big Data include the application of statistics, machine learning models, and some computer programming.\n",
    "\n",
    "- Generative AI, a subset of artificial intelligence, focuses on producing new data rather than just analyzing existing data. It allows machines to create content, including images, music, language, computer code, and more, mimicking creations by people."
   ]
  }
 ],
 "metadata": {
  "language_info": {
   "name": "python"
  }
 },
 "nbformat": 4,
 "nbformat_minor": 5
}
