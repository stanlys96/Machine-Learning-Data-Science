{
 "cells": [
  {
   "cell_type": "markdown",
   "id": "7bc1d67c",
   "metadata": {},
   "source": [
    "Review and evaluate a data science job post.\n",
    "\n",
    "Assignment overview\n",
    "\n",
    "For this project, you should find a data science job posting on a job board of your choice, such as LinkedIn, Indeed, Zip Recruiter, Glassdoor, Monster, Naukri, or USAjobs.gov, that interests you.\n",
    "\n",
    "Analyze the posting by responding to the following questions and statements. You do not need to submit your responses. This is an exercise to familiarize yourself with actual data science related jobs.\n",
    "\n",
    "Identify the following aspects of data science job post:\n",
    "\n",
    "1. What is the company name that is advertising the job?\n",
    "2. What is the job title?\n",
    "3. Where is the role located?\n",
    "4. What is the expected salary or salary range?\n",
    "5. What is the total number of results from the search for the job post?\n",
    "6. What is one technical responsibility from the job post related to something you learned about in this course?\n",
    "7. What are two required technical skills from the job post?\n",
    "8. What are at least two ideas or concepts you learned about in this course relevant to these job posts?"
   ]
  }
 ],
 "metadata": {
  "language_info": {
   "name": "python"
  }
 },
 "nbformat": 4,
 "nbformat_minor": 5
}
