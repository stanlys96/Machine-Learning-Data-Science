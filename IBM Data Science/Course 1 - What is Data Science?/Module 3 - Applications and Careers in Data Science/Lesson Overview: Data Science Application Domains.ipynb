{
 "cells": [
  {
   "cell_type": "markdown",
   "id": "593f7c4a",
   "metadata": {},
   "source": [
    "Lesson Overview: Data Science Application Domains\n",
    "\n",
    "In this lesson, \"Data Science Application Domains,\" you'll embark on a journey to explore the vast and impactful realms where data science plays a pivotal role. This engaging module delves into various activities that shed light on the diverse applications of data science in our world today. You'll uncover how data science drives innovation and transformation across different sectors, from revolutionizing industries to saving lives.\n",
    "\n",
    "Dive into this lesson to discover the real-world applications that define the dynamic landscape of data science.\n",
    "\n",
    "“How Should Companies Get Started in Data Science?” video\n",
    "\n",
    "Gain insights into how organizations can embark on their data science journey effectively.\n",
    "\n",
    "“Old problems with New Data Science Solutions” video\n",
    "\n",
    "Discover how data science offers innovative solutions to age-old and real-world problems.\n",
    "\n",
    "“Applications of Data Science” video\n",
    "\n",
    "Explore the wide-ranging applications of data science across various industries and sectors.\n",
    "\n",
    "“How Data Science is saving lives” video\n",
    "\n",
    "In this video, you will learn about the life-saving potential of data science in healthcare and beyond.\n",
    "\n",
    "“The Final Deliverable” reading\n",
    "\n",
    "Dive into the details of what constitutes the final deliverable in data science projects.\n",
    "\n",
    "Practice quiz\n",
    "\n",
    "Test your understanding of the previous reading.\n",
    "\n",
    "“Lesson Summary” video\n",
    "\n",
    "Recap the essential takeaways from this module with a lesson summary.\n",
    "\n",
    "Practice quiz\n",
    "\n",
    "Take a practice quiz to evaluate how well you’ve understood the material presented in this lesson.\n",
    "\n",
    "Glossary\n",
    "\n",
    "Use this glossary of terms to review the terminology presented in this lesson."
   ]
  }
 ],
 "metadata": {
  "language_info": {
   "name": "python"
  }
 },
 "nbformat": 4,
 "nbformat_minor": 5
}
