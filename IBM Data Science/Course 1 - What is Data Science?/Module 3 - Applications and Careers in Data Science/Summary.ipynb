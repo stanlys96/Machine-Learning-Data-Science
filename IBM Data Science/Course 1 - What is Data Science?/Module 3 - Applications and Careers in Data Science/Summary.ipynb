{
 "cells": [
  {
   "cell_type": "markdown",
   "id": "d806e351",
   "metadata": {},
   "source": [
    "Summary: Careers and Recruiting in Data Science\n",
    "\n",
    "Congratulations! You have completed this module. At this point, you know that: \n",
    "\n",
    "- Data Science helps physicians provide the best treatment for their patients  , helps meteorologists predict the extent of local weather events, and can even help predict natural disasters like earthquakes and tornadoes.\n",
    "\n",
    "- Companies can start on their data science journey by capturing data. Once they have data, they can begin analyzing it.\n",
    "\n",
    "- Everyone who uses the Internet generates mass amounts of data daily.\n",
    "\n",
    "- Amazon and Netflix use recommendation engines, and UPS uses data from customers, drivers, and vehicles to use  the drivers’ time and fuel efficiently.\n",
    "\n",
    "- The purpose of the final deliverable of a Data Science project is to communicate new information and insights from the data analysis to key decision-makers.\n",
    "\n",
    "- The report should present a thorough analysis of the data and communicate the project findings.\n",
    "\n",
    "- Companies should look for someone excited about working with the data in their particular industry. They should seek out someone curious who can ask interesting, meaningful questions about the types of data they intend to collect. They should hire people who love working with data, are fluent in statistics, and are competent in applying machine learning algorithms.\n",
    "\n",
    "- A clearly organized and logical report should communicate the following to the reader:\n",
    "\n",
    "    - What they gain by reading the report\n",
    "\n",
    "    - Clearly defined goals\n",
    "\n",
    "    - The significance of your contribution\n",
    "\n",
    "    - Appropriate context by giving sufficient background \n",
    "\n",
    "    - Why this work is practical and useful\n",
    "\n",
    "    - Conjecture plausible future developments that might result from your work"
   ]
  }
 ],
 "metadata": {
  "language_info": {
   "name": "python"
  }
 },
 "nbformat": 4,
 "nbformat_minor": 5
}
