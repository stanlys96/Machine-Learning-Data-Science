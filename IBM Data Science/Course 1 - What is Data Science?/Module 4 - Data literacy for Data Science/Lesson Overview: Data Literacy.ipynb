{
 "cells": [
  {
   "cell_type": "markdown",
   "id": "570f86d8",
   "metadata": {},
   "source": [
    "Lesson Overview: Data Literacy\n",
    "\n",
    "In the \"Data Literacy\" lesson, you'll dive into the fundamental aspects of data through a series of instructional videos. You'll gain insights into data collection, organization, and the distinctions between Relational Database Management Systems (RDBMS) and NoSQL databases. Additionally, you'll navigate the world of Data Marts, Data Lakes, ETL processes, and Data Pipelines. The lesson ends with a summary video, ensuring you grasp essential data concepts.\n",
    "\n",
    "“Data Collection and Organization” video\n",
    "\n",
    "Explore the fundamentals of collecting and organizing data in this instructional video.\n",
    "\n",
    "“Relational Database Management System” video\n",
    "\n",
    "Gain insights into the workings of Relational Database Management Systems (RDBMS) through this informative video.\n",
    "\n",
    "“NoSQL” video\n",
    "\n",
    "Delve into NoSQL databases and their unique characteristics in this video.\n",
    "\n",
    "“Data Marts, Data Lakes, ETL, and Data Pipelines” video\n",
    "\n",
    "Learn about Data Marts, Data Lakes, ETL processes, and Data Pipelines in this comprehensive video.\n",
    "\n",
    "“Considerations for Choice of Data Repository” video\n",
    "\n",
    "Discover key factors to consider when selecting a data repository in this video.\n",
    "\n",
    "“Data Integration Platforms” video\n",
    "\n",
    "Explore the role and significance of Data Integration Platforms through this enlightening video.\n",
    "\n",
    "Practice quiz\n",
    "\n",
    "Test your knowledge of Data Integration Platforms with this practice quiz.\n",
    "\n",
    "“Lesson Summary” video\n",
    "\n",
    "Recap the key points from this lesson.\n",
    "\n",
    "Practice quiz\n",
    "\n",
    "Take a practice quiz to assess your comprehension of data literacy.\n",
    "\n",
    "Glossary\n",
    "\n",
    "Access a comprehensive glossary that defines and clarifies key data literacy terms relevant to the field of data science.\n",
    "\n",
    "“Summary” reading\n",
    "\n",
    "Summarize the essential concepts and insights enhancing your understanding of data literacy within the context of data science."
   ]
  }
 ],
 "metadata": {
  "language_info": {
   "name": "python"
  }
 },
 "nbformat": 4,
 "nbformat_minor": 5
}
