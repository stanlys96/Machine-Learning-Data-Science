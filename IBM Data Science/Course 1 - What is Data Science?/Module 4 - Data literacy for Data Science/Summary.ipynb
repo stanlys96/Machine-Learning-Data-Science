{
 "cells": [
  {
   "cell_type": "markdown",
   "id": "599998b3",
   "metadata": {},
   "source": [
    "Summary: Data Literacy for Data Science\n",
    "\n",
    "Congratulations! You have completed this lesson. At this point in the course, you know:\n",
    "\n",
    "- The basics of data collection and organization methods.\n",
    "\n",
    "- What RDBMS is and its significance.\n",
    "\n",
    "- NoSQL databases and their flexible schema.\n",
    "\n",
    "- Types of data storage and the ways to process data.\n",
    "\n",
    "- The factors influencing data repository selection.\n",
    "\n",
    "- The various data integration tools and the solutions they provide."
   ]
  }
 ],
 "metadata": {
  "language_info": {
   "name": "python"
  }
 },
 "nbformat": 4,
 "nbformat_minor": 5
}
