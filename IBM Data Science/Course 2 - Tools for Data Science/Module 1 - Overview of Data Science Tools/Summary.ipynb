{
 "cells": [
  {
   "cell_type": "markdown",
   "id": "de98c01e",
   "metadata": {},
   "source": [
    "Module 1 Summary\n",
    "\n",
    "Congratulations! You have completed this module. At this point in the course, you know:\n",
    "\n",
    "- The Data Science Task Categories include:\n",
    "\n",
    "    - Data Management -  storage, management and retrieval of data\n",
    "\n",
    "    - Data Integration and Transformation - streamline data pipelines and automate data processing tasks\n",
    "\n",
    "    - Data Visualization - provide graphical representation of data and assist with communicating insights\n",
    "\n",
    "    - Modelling - enable Building, Deployment, Monitoring and Assessment of Data and Machine Learning models\n",
    "\n",
    "- Data Science Tasks support the following:\n",
    "\n",
    "    - Code Asset Management - store & manage code, track changes and allow collaborative development\n",
    "\n",
    "    - Data Asset Management - organize and manage data, provide access control, and backup assets\n",
    "\n",
    "    - Development Environments - develop, test and deploy code\n",
    "\n",
    "    - Execution Environments - provide computational resources and run the code\n",
    "\n",
    "The data science ecosystem consists of many open source and commercial options, and include both traditional desktop applications and server-based tools, as well as cloud-based services that can be accessed using web-browsers and mobile interfaces.\n",
    "\n",
    "Data Management Tools: include Relational Databases, NoSQL Databases, and Big Data platforms:\n",
    "\n",
    "- MySQL, and PostgreSQL are examples of Open Source Relational Database Management Systems (RDBMS), and IBM Db2 and SQL Server are examples of commercial RDBMSes and are also available as Cloud services.\n",
    "\n",
    "- MongoDB and Apache Cassandra are examples of NoSQL databases.\n",
    "\n",
    "- Apache Hadoop and Apache Spark are used for Big Data analytics. \n",
    "\n",
    "Data Integration and Transformation Tools: include Apache Airflow and Apache Kafka. \n",
    "\n",
    "Data Visualization Tools:  include commercial offerings  such as Cognos Analytics, Tableau and PowerBI  and can be used for building dynamic and interactive dashboards.  \n",
    "\n",
    "Code Asset Management Tools: Git is an essential code asset management tool. GitHub is a popular web-based platform for storing and managing source code. Its features make it an ideal tool for collaborative software development, including version control, issue tracking, and project management. \n",
    "\n",
    "Development Environments: Popular development environments for Data Science include Jupyter Notebooks and RStudio. \n",
    "\n",
    "- Jupyter Notebooks provides an interactive environment for creating and sharing code, descriptive text, data visualizations, and other computational artifacts in a web-browser based interface.  \n",
    "\n",
    "- RStudio is an integrated development environment (IDE) designed specifically for working with the R programming language, which is a popular tool for statistical computing and data analysis.  "
   ]
  }
 ],
 "metadata": {
  "language_info": {
   "name": "python"
  }
 },
 "nbformat": 4,
 "nbformat_minor": 5
}
