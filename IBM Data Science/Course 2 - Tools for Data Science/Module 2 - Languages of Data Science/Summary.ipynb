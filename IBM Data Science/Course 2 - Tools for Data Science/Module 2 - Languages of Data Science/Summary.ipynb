{
 "cells": [
  {
   "cell_type": "markdown",
   "id": "01b043d4",
   "metadata": {},
   "source": [
    "Module 2 Summary\n",
    "\n",
    "Congratulations! You have completed this module. At this point in the course, you know:\n",
    "\n",
    "- You should select a language to learn depending on your needs, the problems you are trying to solve, and whom you are solving them for.\n",
    "\n",
    "- The popular languages are Python, R, SQL, Scala, Java, C++, and Julia.\n",
    "\n",
    "- For data science, you can use Python's scientific computing libraries like Pandas, NumPy, SciPy, and Matplotlib. \n",
    "\n",
    "- Python can also be used for Natural Language Processing (NLP) using the Natural Language Toolkit (NLTK). \n",
    "\n",
    "- Python is open source, and R is free software. \n",
    "\n",
    "- R language’s array-oriented syntax makes it easier to translate from math to code for learners with no or minimal programming background.\n",
    "\n",
    "- SQL is different from other software development languages because it is a non-procedural language.\n",
    "\n",
    "- SQL was designed for managing data in relational databases. \n",
    "\n",
    "- If you learn SQL and use it with one database, you can apply your SQL knowledge with many other databases easily.\n",
    "\n",
    "- Data science tools built with Java include Weka, Java-ML, Apache MLlib, and Deeplearning4.\n",
    "\n",
    "- For data science, popular program built with Scala is Apache Spark which includes Shark, MLlib, GraphX, and Spark Streaming.\n",
    "\n",
    "- Programs built for Data Science with JavaScript include TensorFlow.js and R-js.\n",
    "\n",
    "- One great application of Julia for Data Science is JuliaDB."
   ]
  }
 ],
 "metadata": {
  "language_info": {
   "name": "python"
  }
 },
 "nbformat": 4,
 "nbformat_minor": 5
}
