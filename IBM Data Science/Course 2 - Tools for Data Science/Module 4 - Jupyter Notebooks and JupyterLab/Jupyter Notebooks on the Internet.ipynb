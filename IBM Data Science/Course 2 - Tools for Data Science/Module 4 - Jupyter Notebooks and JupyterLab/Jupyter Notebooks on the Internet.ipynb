{
 "cells": [
  {
   "cell_type": "markdown",
   "id": "44b4435d",
   "metadata": {},
   "source": [
    "Jupyter Notebooks on the Internet\n",
    "\n",
    "There are thousands of interesting Jupyter Notebooks available on the internet for you to learn from. One of the best sources is: [https://github.com/jupyter/jupyter/wiki](https://github.com/jupyter/jupyter/wiki)\n",
    "\n",
    "It is important to notice that you can download such notebooks to your local computer or import them to a cloud based notebook tool so that you can rerun, modify, and apply what's explained in the notebook.\n",
    "\n",
    "Very often, Jupyter Notebooks are already shared in a rendered view. This means that you can look at them as if they were running locally on your machine. But sometimes, folks only share a link to the Jupyter file (which you can make out by the *.ipynb extension). In this case, you can pick the URL to that file and paste it to the NB-Viewer => [https://nbviewer.jupyter.org/](https://nbviewer.jupyter.org/)\n",
    "\n",
    "The list of Jupyter Notebooks provides you with a huge collection of materials to explore. Therefore, it might be useful to give you some pointers to interesting notebooks. You have covered some examples with data in the labs. Let's highlight some useful data that further explores data science. In addition, as we have covered different tasks in data science, we will also provide a sample notebook for each task.\n",
    "\n",
    "First, you start with exploratory data analysis, for which this notebook is highly recommended: [https://nbviewer.jupyter.org/github/Tanu-N-Prabhu/Python/blob/master/Exploratory_data_Analysis.ipynb](https://nbviewer.jupyter.org/github/Tanu-N-Prabhu/Python/blob/master/Exploratory_data_Analysis.ipynb)\n",
    "\n",
    "For data integration/cleansing at a smaller scale, the python library_pandas_is often used. For this task, you can have a look at this notebook: [https://towardsdatascience.com/data-cleaning-with-python-using-pandas-library-c6f4a68ea8eb](https://towardsdatascience.com/data-cleaning-with-python-using-pandas-library-c6f4a68ea8eb)\n",
    "\n",
    "If you want to know more about clustering, have a look at this notebook: [https://nbviewer.jupyter.org/github/temporaer/tutorial_ml_gkbionics/blob/master/2%20-%20KMeans.ipynb](https://nbviewer.jupyter.org/github/temporaer/tutorial_ml_gkbionics/blob/master/2%20-%20KMeans.ipynb)\n",
    "\n",
    "And finally, if you want an in-depth notebook on the_iris_dataset, have a look at this: [https://www.kaggle.com/lalitharajesh/iris-dataset-exploratory-data-analysis](https://www.kaggle.com/lalitharajesh/iris-dataset-exploratory-data-analysis)\n",
    "\n",
    "Author(s)\n",
    "Romeo Kienzler"
   ]
  }
 ],
 "metadata": {
  "language_info": {
   "name": "python"
  }
 },
 "nbformat": 4,
 "nbformat_minor": 5
}
