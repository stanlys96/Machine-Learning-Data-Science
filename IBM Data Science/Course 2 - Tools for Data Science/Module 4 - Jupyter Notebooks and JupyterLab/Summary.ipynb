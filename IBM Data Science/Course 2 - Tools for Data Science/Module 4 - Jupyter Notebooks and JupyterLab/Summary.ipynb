{
 "cells": [
  {
   "cell_type": "markdown",
   "id": "46801a5d",
   "metadata": {},
   "source": [
    "Module 4 Summary\n",
    "\n",
    "Congratulations! You have completed this module. At this point in the course, you know:\n",
    "\n",
    "- Jupyter Notebooks are used in Data Science for recording experiments and projects.\n",
    "\n",
    "- Jupyter Lab is compatible with many files and Data Science languages.\n",
    "\n",
    "- There are different ways to install and use Jupyter Notebooks.\n",
    "\n",
    "- How to run, delete, and insert a code cell in Jupyter Notebooks.\n",
    "\n",
    "- How to run multiple notebooks at the same time.\n",
    "\n",
    "- How to present a notebook using a combination of Markdown and code cells.\n",
    "\n",
    "- How to shut down your notebook sessions after you have completed your work on them.\n",
    "\n",
    "- Jupyter implements a two-process model with a kernel and a client.\n",
    "\n",
    "- The notebook server is responsible for saving and loading the notebooks.\n",
    "\n",
    "- The kernel executes the cells of code contained in the Notebook. \n",
    "\n",
    "- The Jupyter architecture uses the NB convert tool to convert files to other formats.\n",
    "\n",
    "- The Anaconda Navigator GUI can launch multiple applications on a local device.\n",
    "\n",
    "- Jupyter environments in the Anaconda Navigator include JupyterLab and VS Code.\n",
    "\n",
    "- You can download Jupyter environments separately from the Anaconda Navigator, but they may not be configured properly.\n",
    "\n",
    "- Additional open-source Jupyter environments include JupyterLab, JupyterLite, VS Code, and Google Colaboratory. \n",
    "\n",
    "- JupyterLite is a browser-based tool."
   ]
  }
 ],
 "metadata": {
  "language_info": {
   "name": "python"
  }
 },
 "nbformat": 4,
 "nbformat_minor": 5
}
