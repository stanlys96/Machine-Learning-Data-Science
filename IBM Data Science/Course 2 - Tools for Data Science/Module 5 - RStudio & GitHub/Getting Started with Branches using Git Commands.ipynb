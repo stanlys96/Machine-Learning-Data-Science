{
 "cells": [
  {
   "cell_type": "markdown",
   "id": "61f4b30e",
   "metadata": {},
   "source": [
    "[Optional] Getting Started with Branches using Git Commands\n",
    "\n",
    "You would typically use Git commands from your own desktop/laptop. However, so you can get started using the commands quickly without having to download or install anything, we are providing an IDE with a Terminal on the Cloud. Simply click the Open Tool button below to launch the Skills Network Cloud IDE and in the new browser tab that launches, follow the instructions to practice the Git commands.\n",
    "\n",
    "After completing this lab you will be able to use git commands to start working with creating and managing your code branches, including:\n",
    "\n",
    "1. create a new local repository using git init\n",
    "\n",
    "2. create and add a file to the repo using git add\n",
    "\n",
    "3. commit changes using git commit\n",
    "\n",
    "4. create a branch using git branch\n",
    "\n",
    "5. switch to a branch using git checkout\n",
    "\n",
    "6. check the status of files changed using git status\n",
    "\n",
    "7. review recent commits using git log\n",
    "\n",
    "8. revert changes using git revert\n",
    "\n",
    "9. get a list of branches and active branch using git branch\n",
    "\n",
    "10. merge changes in your active branch into another branch using git merge"
   ]
  }
 ],
 "metadata": {
  "language_info": {
   "name": "python"
  }
 },
 "nbformat": 4,
 "nbformat_minor": 5
}
