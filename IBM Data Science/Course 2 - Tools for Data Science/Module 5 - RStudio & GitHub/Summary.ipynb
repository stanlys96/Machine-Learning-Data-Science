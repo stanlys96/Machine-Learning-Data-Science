{
 "cells": [
  {
   "cell_type": "markdown",
   "id": "95e0959d",
   "metadata": {},
   "source": [
    "Module 5 Summary\n",
    "\n",
    "Congratulations! You have completed this module. At this point in the course, you know:\n",
    "\n",
    "- The capabilities of R and its uses in Data Science.\n",
    "\n",
    "- The RStudio interface for running R codes. \n",
    "\n",
    "- Popular R packages for Data Science.\n",
    "\n",
    "- Popular data visualization packages in R.\n",
    "\n",
    "- Plotting with the inbuilt R plot function.\n",
    "\n",
    "- Plotting with ggplot.\n",
    "\n",
    "- Adding titles and changing the axis names using the ggtitle and lab’s function.\n",
    "\n",
    "- A Distributed Version Control System (DVCS) keeps track of changes to code, regardless of where it is stored. \n",
    "\n",
    "- Version control allows multiple users to work on the same codebase or repository, mirroring the codebase on their own computers if needed, while the distributed version control software helps manage synchronization amongst the various codebase mirrors.\n",
    "\n",
    "- Repositories are storage structures that:\n",
    "\n",
    "    - Store the code\n",
    "\n",
    "    - Track issues and changes\n",
    "\n",
    "    - Enable you to collaborate with others\n",
    "\n",
    "- Git is one of the most popular distributed version control systems. \n",
    "\n",
    "- GitHub, GitLab and Bitbucket are examples of hosted version control systems.\n",
    "\n",
    "- Branches are used to isolate changes to code. When the changes are complete, they can be merged back into the main branch.\n",
    "\n",
    "- Repositories can be cloned to make it possible to work locally, then sync changes back to the original."
   ]
  }
 ],
 "metadata": {
  "language_info": {
   "name": "python"
  }
 },
 "nbformat": 4,
 "nbformat_minor": 5
}
