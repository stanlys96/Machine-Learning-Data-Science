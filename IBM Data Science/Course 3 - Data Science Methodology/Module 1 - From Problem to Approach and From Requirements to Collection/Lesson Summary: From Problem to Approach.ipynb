{
 "cells": [
  {
   "cell_type": "markdown",
   "id": "cf7eb871",
   "metadata": {},
   "source": [
    "Lesson summary\n",
    "Module 1 Lesson 1: From Problem to Approach\n",
    "\n",
    "Congratulations! You have completed this lesson. At this point in the course, you know:\n",
    "\n",
    "- Foundational methodology, a cyclical, iterative data science methodology developed by John Rollins, consists of 10 stages, starting with Business Understanding and ending with Feedback.\n",
    "\n",
    "- The primary goal of the Business Understanding stage is to understand the business problem and determine the data needed to answer the core business question.\n",
    "\n",
    "![Summary Business Understanding](./img/summary_business_understanding.png)\n",
    "\n",
    "- During the Analytic Approach stage, you can choose from descriptive, diagnostic, predictive, and prescriptive analytic approaches, whether to use machine learning with clustering associations.\n",
    "\n",
    "![Summary Analytic Understanding](./img/analytic_approach.png)\n",
    "\n",
    "- Decision tree classification is a predictive analytics approach that's easy for non-data scientists to implement\n",
    "\n",
    "Author(s)\n",
    "Dr. Pooja\n",
    "Patsy R. Kravitz\n",
    "\n",
    "© IBM Corporation 2023. All rights reserved."
   ]
  }
 ],
 "metadata": {
  "language_info": {
   "name": "python"
  }
 },
 "nbformat": 4,
 "nbformat_minor": 5
}
