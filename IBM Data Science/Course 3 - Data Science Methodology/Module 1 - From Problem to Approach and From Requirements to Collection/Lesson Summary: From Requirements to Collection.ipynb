{
 "cells": [
  {
   "cell_type": "markdown",
   "id": "7f761a3d",
   "metadata": {},
   "source": [
    "Module 1 Lesson 2: From Requirements to Collection\n",
    "\n",
    "Congratulations! You have completed this lesson. At this point in the course, you know:\n",
    "- Data Requirements stage tasks include identifying the correct and necessary data content, data formats, and data sources for the specific analytical approach.\n",
    "\n",
    "- During the Data Collection stage, expert data scientists meticulously revise data requirements and make critical decisions regarding the quantity and quality of data.\n",
    "\n",
    "\n",
    "![Data Requirements and Collection](./img/data_requirements_and_collection.png)\n",
    "\n",
    "\n",
    "- Data scientists apply descriptive statistics and visualization techniques to thoroughly assess the content, quality, and initial insights gained from the collected data, identify gaps, and determine if new data is needed or to substitute existing data.\n",
    "Author(s)\n",
    "Dr. Pooja\n",
    "Patsy R. Kravitz\n",
    "\n",
    "© IBM Corporation 2023. All rights reserved."
   ]
  }
 ],
 "metadata": {
  "language_info": {
   "name": "python"
  }
 },
 "nbformat": 4,
 "nbformat_minor": 5
}
