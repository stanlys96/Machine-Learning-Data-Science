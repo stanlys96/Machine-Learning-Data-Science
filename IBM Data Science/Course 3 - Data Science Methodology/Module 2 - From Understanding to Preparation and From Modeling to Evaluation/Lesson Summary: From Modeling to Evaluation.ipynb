{
 "cells": [
  {
   "cell_type": "markdown",
   "id": "5bc1d811",
   "metadata": {},
   "source": [
    "Lesson Summary: Modeling to Evaluation\n",
    "\n",
    "Congratulations! You have completed this lesson. At this point in the course, you know:\n",
    "- The end goal of the Modeling stage is that the data model answers the business question.\n",
    "- The data modeling process uses a training data set. Data scientists test multiple algorithms on the training set data to determine whether the variables are required and whether the data supports answering the business question. The outcome of those models are either descriptive or predictive.\n",
    "\n",
    "![Modeling to Evaluation](./img/modeling_to_evaluation.png)\n",
    "\n",
    "\n",
    "- The Evaluation phase consists of two stages, the diagnostic measures phase, and the statistical significance phase.\n",
    "\n",
    "- During the Evaluation stage, data scientists and others assess the quality of the model and determine if the modelanswers the initial Business Understanding question or if the data model needs adjustment.\n",
    "\n",
    "- The ROC curve, known as the receiver operating characteristic curve, is a useful diagnostic tool for determining the optimal classification model. This curve quantifies how well a binary classification model performs, declassifying the yes and no outcomes when some discrimination criterion is varied.\n",
    "\n",
    "Author(s)\n",
    "Dr. Pooja\n",
    "Patsy R. Kravitz\n",
    "\n"
   ]
  }
 ],
 "metadata": {
  "language_info": {
   "name": "python"
  }
 },
 "nbformat": 4,
 "nbformat_minor": 5
}
