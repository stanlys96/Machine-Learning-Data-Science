{
 "cells": [
  {
   "cell_type": "markdown",
   "id": "8f1abecd",
   "metadata": {},
   "source": [
    "Module 2 Lesson 1: From Understanding to Preparation\n",
    "\n",
    "Congratulations! You have completed this lesson. At this point in the course, you know:\n",
    "\n",
    "- The Data Understanding stage encompasses all activities related to constructing the data set and answers the question as to whether the data you collected represents the problem to be solved.\n",
    "- During the Data Understanding stage, scientists might use descriptive statistics, predictive statistics, or both.\n",
    "- Data scientists commonly apply Hurst, univariates, and other statistics on each variable, such as mean, median, minimum, maximum, standard deviation, pairwise correlation, and histograms.\n",
    "- Data scientists also use univariates, statistics, and histograms to assess data quality.\n",
    "\n",
    "![Data Understanding and Preparation](./img/data_understanding_and_preparation.jpg)\n",
    "\n",
    "\n",
    "- During the Data Preparation stage, data scientists must address missing or invalid values, remove duplicates, and validate that the data is properly formatted.\n",
    "- Feature engineering, also part of the Data Preparation stage, uses domain knowledge of the data to create features that make the machine learning algorithms work.\n",
    "- Text analysis during the Data Preparation stage is critical for validating that the proper groupings are set and that the programming is not overlooking hidden data.\n",
    "\n",
    "Author(s)\n",
    "Dr. Pooja\n",
    "Patsy R. Kravitz"
   ]
  }
 ],
 "metadata": {
  "language_info": {
   "name": "python"
  }
 },
 "nbformat": 4,
 "nbformat_minor": 5
}
