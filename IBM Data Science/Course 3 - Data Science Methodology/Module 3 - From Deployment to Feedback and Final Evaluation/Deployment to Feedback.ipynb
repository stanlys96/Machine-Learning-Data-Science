{
 "cells": [
  {
   "cell_type": "markdown",
   "id": "2ecce276",
   "metadata": {},
   "source": [
    "Module 3 Lesson 1: Deployment to Feedback\n",
    "\n",
    "Congratulations! You have completed this lesson. At this point in the course, you know:\n",
    "\n",
    "- Stakeholders, including the solution owner, marketing staff, application developers, and IT administration evaluate the model and contribute feedback.\n",
    "- During the Deployment stage, data scientists release the data model to a targeted group of stakeholders.\n",
    "- Stakeholder and user feedback help assess the model's performance and impact during the Feedback stage.\n",
    "- The model's value depends on iteration; that is, how successfully the data model incorporates user feedback.\n",
    "\n",
    "![Deployment to Feedback](./img/deployment_to_feedback.png)\n",
    "\n",
    "\n",
    "Author(s)\n",
    "Dr. Pooja\n",
    "Patsy R. Kravitz"
   ]
  }
 ],
 "metadata": {
  "language_info": {
   "name": "python"
  }
 },
 "nbformat": 4,
 "nbformat_minor": 5
}
