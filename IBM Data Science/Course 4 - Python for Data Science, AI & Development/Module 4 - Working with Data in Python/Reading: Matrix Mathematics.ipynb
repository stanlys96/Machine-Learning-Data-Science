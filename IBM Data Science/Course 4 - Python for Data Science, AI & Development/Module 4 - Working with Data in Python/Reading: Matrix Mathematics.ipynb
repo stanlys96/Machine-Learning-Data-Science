{
 "cells": [
  {
   "cell_type": "markdown",
   "id": "34830ca0",
   "metadata": {},
   "source": [
    "Reading: Matrix Mathematics\n",
    "Estimated effort: 5 mins\n",
    "\n",
    "You have seen that you can use Numpy package functions to perform different types of operations on arrays and matrices. In this reading, you will learn how these operations work mathematically.\n",
    "\n",
    "1D Arrays : Vectors\n",
    "A 1D array is often termed as a vector. Depending upon the orientation of the data, the vector can be classified as a row vector or a column vector. This is illustrated in the image below.\n",
    "\n",
    "![1D Array: Vectors](./img/maths_1.png)\n",
    "\n",
    "Mathematically, we can add, subtract, and take the product of two vectors, provided they are the same shape. The images below highlight the mathematical operations conducted on a pair of vectors.\n",
    "\n",
    "![Vector add subtract](./img/maths_2.png)\n",
    "![Vector dot product](./img/maths_6.png)\n",
    "\n",
    "All three of these operations are conducted on corresponding elements of individual vectors. The resulting array always has the same size as that of the two original vectors.\n",
    "\n",
    "To a single vector, we can also add a constant (scalar addition), subtract a constant (scalar subtraction) and multiply a constant (scalar multiplication) to any vector. The images below illustrate these operations.\n",
    "\n",
    "![Scalar add subtract](./img/maths_7.png)\n",
    "![Scalar dot product](./img/maths_3.png)\n",
    "\n",
    "\n",
    "2D Arrays : Matrices\n",
    "A 2D array is also called a Matrix. These are typically rectangular arrays with data stored in different rows. All of the operations mentioned above are also applicable to the 2D arrays.\n",
    "\n",
    "As illlustrated in the images below, the dot product is carried out by multiplying and adding corresponding elements of rows of the first matrix with the elements of columns of the second matrix. As a result, the output matrix from the multiplication will have a modified shape.\n",
    "\n",
    "The general rule is that the dot product of an m X n matrix can be done only with an n X p matrix, and the resultant matrix will have the shape m X p. In the example shown below, the 4 X 2 matrix is multiplied with the 2 X 4 matrix to generate a 4 X 4 matrix.\n",
    "\n",
    "![2D Arrays: Matrices](./img/maths_4.png)\n",
    "\n",
    "In the reverse example, when 2 X 4 matrix is multiplied with the 4 X 2 one, the resultant will be a 2 X 2 matrix.\n",
    "\n",
    "![Reverse example](./img/maths_5.png)\n",
    "\n",
    "Note: Dot product of a row vector with a column vector, with the same number of elements, would return a single scalar value. Dot product of a column vector with a row vector, will return a 2D matrix.\n",
    "\n",
    "Author: Abhishek Gagneja"
   ]
  }
 ],
 "metadata": {
  "language_info": {
   "name": "python"
  }
 },
 "nbformat": 4,
 "nbformat_minor": 5
}
