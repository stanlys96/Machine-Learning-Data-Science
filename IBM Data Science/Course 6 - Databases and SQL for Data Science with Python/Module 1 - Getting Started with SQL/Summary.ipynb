{
 "cells": [
  {
   "cell_type": "markdown",
   "id": "f09259d5",
   "metadata": {},
   "source": [
    "Summary: Basic SQL\n",
    "\n",
    "Congratulations! You have completed this lesson. At this point in the course, you know: \n",
    "\n",
    "- The Data Manipulation Language (DML) statements read and modify data. \n",
    "\n",
    "- The search condition of the WHERE clause uses a predicate to refine the search.\n",
    "\n",
    "- The SQL retrieves specific data from databases.\n",
    "\n",
    "- The COUNT, DISTINCT, and LIMIT are expressions used with SELECT statements. \n",
    "\n",
    "- The real-world applications of SELECT statements.\n",
    "\n",
    "- The INSERT, UPDATE, and DELETE are DML statements for populating and changing tables. "
   ]
  }
 ],
 "metadata": {
  "language_info": {
   "name": "python"
  }
 },
 "nbformat": 4,
 "nbformat_minor": 5
}
