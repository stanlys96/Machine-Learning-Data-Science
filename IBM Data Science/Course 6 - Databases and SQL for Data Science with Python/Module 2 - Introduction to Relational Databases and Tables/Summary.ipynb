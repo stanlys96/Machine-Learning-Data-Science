{
 "cells": [
  {
   "cell_type": "markdown",
   "id": "78b4091b",
   "metadata": {},
   "source": [
    "Summary: Relational Database Concepts and Tables\n",
    "\n",
    "Congratulations! You have completed this lesson. At this point in the course, you know:  \n",
    "\n",
    "- A database is a repository of data that provides functionality for adding, modifying, and querying the data.  \n",
    "\n",
    "- SQL is a language used to query or retrieve data from a relational database.  \n",
    "\n",
    "- The Relational Model is the most used data model for databases because it allows for data independence.  \n",
    "\n",
    "- The primary key of a relational table uniquely identifies each tuple or row, preventing duplication of data and providing a way of defining relationships between tables.  \n",
    "\n",
    "- SQL statements fall into two different categories: Data Definition Language (DDL) statements and Data Manipulation Language (DML) statements. "
   ]
  }
 ],
 "metadata": {
  "language_info": {
   "name": "python"
  }
 },
 "nbformat": 4,
 "nbformat_minor": 5
}
