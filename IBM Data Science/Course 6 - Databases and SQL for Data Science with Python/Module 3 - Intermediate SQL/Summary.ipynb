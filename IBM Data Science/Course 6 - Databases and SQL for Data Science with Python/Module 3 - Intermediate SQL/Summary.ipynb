{
 "cells": [
  {
   "cell_type": "markdown",
   "id": "563b3eed",
   "metadata": {},
   "source": [
    "Summary: Refining Your Results\n",
    "\n",
    "Congratulations! You have completed this lesson. At this point in the course, you know: \n",
    "\n",
    "- You can use the WHERE clause to refine your query results. \n",
    "\n",
    "- The search condition of the WHERE clause uses a predicate to refine the search. \n",
    "\n",
    "- You can use the wildcard character (%) as a substitute for unknown characters in a pattern. \n",
    "\n",
    "- You can use BETWEEN ... AND ... to specify a range of numbers. \n",
    "\n",
    "- You can sort query results into ascending or descending order, using the ORDER BY clause to specify the column to sort on. \n",
    "\n",
    "- You can group query results by using the GROUP BY clause.  "
   ]
  },
  {
   "cell_type": "markdown",
   "id": "8e2000f5",
   "metadata": {},
   "source": [
    "Summary: Functions, Multiple Tables, and Sub-queries\n",
    "\n",
    "Congratulations! You have completed this lesson. At this point in the course, you know: \n",
    "\n",
    "- Tools for database management that offer built-in functions for performing operations on data within the database itself.\n",
    "\n",
    "- That when working with large datasets, you may save time by using built-in functions rather than first retrieving the data into your application and then executing functions on the retrieved data.\n",
    "\n",
    "- You can use sub-queries to form more powerful queries than otherwise.\n",
    "\n",
    "- You can use a sub-select expression to evaluate some built-in aggregate functions like the average function. \n",
    "\n",
    "- Derived tables or table expressions are sub-queries where the outer query uses the results of the sub-query as a data source."
   ]
  }
 ],
 "metadata": {
  "language_info": {
   "name": "python"
  }
 },
 "nbformat": 4,
 "nbformat_minor": 5
}
