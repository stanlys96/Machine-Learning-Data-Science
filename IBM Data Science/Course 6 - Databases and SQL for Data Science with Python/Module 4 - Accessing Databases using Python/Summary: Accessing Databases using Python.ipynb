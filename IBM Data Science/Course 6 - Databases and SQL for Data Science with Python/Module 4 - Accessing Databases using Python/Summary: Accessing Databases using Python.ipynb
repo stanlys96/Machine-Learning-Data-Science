{
 "cells": [
  {
   "cell_type": "markdown",
   "id": "ed52425b",
   "metadata": {},
   "source": [
    "Summary: Accessing databases using Python\n",
    "\n",
    "Congratulations! You have completed this lesson. At this point in the course, you know: \n",
    "\n",
    "- Magic commands are special commands that provide special functionalities.\n",
    "\n",
    "- Cell magics are commands prefixed with two %% characters and operate on multiple input lines. \n",
    "\n",
    "- DB APIs are commands prefixed with two %% characters and operate on multiple input lines.\n",
    "\n",
    "- The two main concepts in the Python DB API are Connection Objects and Query Objects.\n",
    "\n",
    "- A database cursor is a control structure that enables traversal over the records in a database. \n",
    "\n",
    "- Pandas’ methods are equipped with common mathematical and statistical methods.  \n",
    "\n",
    "- The pandas.read_csv() function is used to read the database CSV file.\n",
    "\n",
    "- The sqlite3.connect() function is used to connect to a database.\n",
    "\n",
    "- To use pandas to retrieve data from the database tables, load data using the read_sql method and select the SQL Select Query\n",
    "\n",
    "- A categorical scatterplot is created using the swarmplot() method by the seaborn package."
   ]
  }
 ],
 "metadata": {
  "language_info": {
   "name": "python"
  }
 },
 "nbformat": 4,
 "nbformat_minor": 5
}
