{
 "cells": [
  {
   "cell_type": "markdown",
   "id": "6443233a",
   "metadata": {},
   "source": [
    "Summary: JOIN Statements\n",
    "\n",
    "Congratulations! You have completed this lesson. At this point in the course, you know:\n",
    "\n",
    "- A join combines the rows from two or more tables based on a relationship between certain columns in these tables.\n",
    "\n",
    "- To combine data from three or more different tables, you simply add new joins to the SQL statement. \n",
    "\n",
    "- There are two types of joins: inner join and outer join; and three types of outer joins: left outer join, right outer join, and full outer join. \n",
    "\n",
    "- The most common type of join is the inner join, which matches the results from two tables and returns the selected elements from each table, only where corresponding elements in both the tables are the same.\n",
    "\n",
    "- You can use an alias as shorthand for a table or column name."
   ]
  }
 ],
 "metadata": {
  "language_info": {
   "name": "python"
  }
 },
 "nbformat": 4,
 "nbformat_minor": 5
}
