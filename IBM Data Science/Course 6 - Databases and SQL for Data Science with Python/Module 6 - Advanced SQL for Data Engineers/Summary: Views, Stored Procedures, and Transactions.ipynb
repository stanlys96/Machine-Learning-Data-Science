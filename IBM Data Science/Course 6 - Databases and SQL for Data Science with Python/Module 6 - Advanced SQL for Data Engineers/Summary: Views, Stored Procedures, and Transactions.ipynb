{
 "cells": [
  {
   "cell_type": "markdown",
   "id": "7f2a1bf9",
   "metadata": {},
   "source": [
    "Summary: Views, Stored Procedures, and Transactions\n",
    "\n",
    "Congratulations! You have completed this lesson. At this point in the course, you know:\n",
    "\n",
    "- Views are a dynamic mechanism for presenting data from one or more tables.A transaction represents a complete unit of work, which can be one or more SQL statements.\n",
    "\n",
    "- An ACID transaction is one where all the SQL statements must complete successfully, or none at all.\n",
    "\n",
    "- A stored procedure is a set of SQL statements that are stored and executed on the database server, allowing you to send one statement as an alternative to sending multiple statements.\n",
    "\n",
    "- You can write stored procedures in many different languages like SQL PL, PL/SQL, Java, and C."
   ]
  }
 ],
 "metadata": {
  "language_info": {
   "name": "python"
  }
 },
 "nbformat": 4,
 "nbformat_minor": 5
}
