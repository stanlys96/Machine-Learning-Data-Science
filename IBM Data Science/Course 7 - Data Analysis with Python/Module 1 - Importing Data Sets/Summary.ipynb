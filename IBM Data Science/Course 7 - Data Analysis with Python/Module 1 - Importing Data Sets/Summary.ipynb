{
 "cells": [
  {
   "cell_type": "markdown",
   "id": "4b781243",
   "metadata": {},
   "source": [
    "Lesson Summary\n",
    "\n",
    "Congratulations! You have completed this lesson. At this point in the course, you know: \n",
    "\n",
    "- Each line in a dataset is a row, and commas separate the values.\n",
    "\n",
    "- To understand the data, you must analyze the attributes for each column of data.\n",
    "\n",
    "- Python libraries are collections of functions and methods that facilitate various functionalities without writing code from scratch and are categorized into Scientific Computing, Data Visualization, and Machine Learning Algorithms.\n",
    "\n",
    "- Many data science libraries are interconnected; for instance, Scikit-learn is built on top of NumPy, SciPy, and Matplotlib.\n",
    "\n",
    "- The data format and the file path are two key factors for reading data with Pandas.\n",
    "\n",
    "- The read_CSV method in Pandas can read files in CSV format into a Pandas DataFrame.\n",
    "\n",
    "- Pandas has unique data types like object, float, Int, and datetime.\n",
    "\n",
    "- Use the dtype method to check each column’s data type; misclassified data types might need manual correction.\n",
    "\n",
    "- Knowing the correct data types helps apply appropriate Python functions to specific columns.\n",
    "\n",
    "- Using Statistical Summary with describe() provides count, mean, standard deviation, min, max, and quartile ranges for numerical columns.\n",
    "\n",
    "- You can also use include='all' as an argument to get summaries for object-type columns.\n",
    "\n",
    "- The statistical summary helps identify potential issues like outliers needing further attention.\n",
    "\n",
    "- Using the info() Method gives an overview of the top and bottom 30 rows of the DataFrame, useful for quick visual inspection.\n",
    "\n",
    "- Some statistical metrics may return \"NaN,\" indicating missing values, and the program can’t calculate statistics for that specific data type.\n",
    "\n",
    "- Python can connect to databases through specialized code, often written in Jupyter notebooks.\n",
    "\n",
    "- SQL Application Programming Interfaces (APIs) and Python DB APIs (most often used) facilitate the interaction between Python and the DBMS.\n",
    "\n",
    "- SQL APIs connect to DBMS with one or more API calls, build SQL statements as a text string, and use API calls to send SQL statements to the DBMS and retrieve results and statuses.\n",
    "\n",
    "- DB-API, Python's standard for interacting with relational databases, uses connection objects to establish and manage database connections and cursor objects to run queries and scroll through the results.\n",
    "\n",
    "- Connection Object methods include the cursor(), commit(), rollback(), and close() commands.\n",
    "\n",
    "- You can import the database module, use the Connect API to open a connection, and then create a cursor object to run queries and fetch results. \n",
    "\n",
    "- Remember to close the database connection to free up resources."
   ]
  }
 ],
 "metadata": {
  "language_info": {
   "name": "python"
  }
 },
 "nbformat": 4,
 "nbformat_minor": 5
}
