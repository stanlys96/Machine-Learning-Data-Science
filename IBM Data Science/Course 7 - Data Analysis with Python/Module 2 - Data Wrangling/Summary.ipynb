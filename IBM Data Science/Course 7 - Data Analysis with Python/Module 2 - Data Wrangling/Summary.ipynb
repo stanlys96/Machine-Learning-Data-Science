{
 "cells": [
  {
   "cell_type": "markdown",
   "id": "c482228c",
   "metadata": {},
   "source": [
    "Lesson Summary\n",
    "\n",
    "Congratulations! You have completed this lesson. At this point in the course, you know:\n",
    "\n",
    "- Data formatting is critical for making data from various sources consistent and comparable.\n",
    "\n",
    "- Master the techniques in Python to convert units of measurement, like transforming \"city miles per gallon\" to \"city-liters per 100 kilometers\" for ease of comparison and analysis.\n",
    "\n",
    "- Acquire skills to identify and correct data types in Python, ensuring the data is accurately represented for subsequent statistical analyses.\n",
    "\n",
    "- Data normalization helps make variables comparable and helps eliminate inherent biases in statistical models.\n",
    "\n",
    "- You can apply Feature Scaling, Min-Max, and Z-Score to normalize data and apply each technique in Python using pandas’ methods.\n",
    "\n",
    "- Binning is a method of data pre-processing to improve model accuracy and data visualization.\n",
    "\n",
    "- Run binning techniques in Python using numpy's \"linspace\" and pandas' \"cut\" methods, particularly for numerical variables like \"price.\"\n",
    "\n",
    "- Utilize histograms to visualize the distribution of binned data and gain insights into feature distributions.\n",
    "\n",
    "- Statistical models generally require numerical inputs, making it necessary to convert categorical variables like \"fuel type\" into numerical formats.\n",
    "\n",
    "- You can implement the one-hot encoding technique in Python using pandas’ get_dummies method to transform categorical variables into a format suitable for machine learning models."
   ]
  }
 ],
 "metadata": {
  "language_info": {
   "name": "python"
  }
 },
 "nbformat": 4,
 "nbformat_minor": 5
}
