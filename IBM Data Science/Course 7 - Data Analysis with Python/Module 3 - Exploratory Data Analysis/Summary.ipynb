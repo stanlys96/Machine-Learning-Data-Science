{
 "cells": [
  {
   "cell_type": "markdown",
   "id": "8954889d",
   "metadata": {},
   "source": [
    "Lesson Summary\n",
    "\n",
    "Congratulations! You have completed this lesson. At this point in the course, you know: \n",
    "\n",
    "- Tools like the 'describe' function in pandas can quickly calculate key statistical measures like mean, standard deviation, and quartiles for all numerical variables in your data frame. \n",
    "\n",
    "- Use the 'value_counts' function to summarize data into different categories for categorical data. \n",
    "\n",
    "- Box plots offer a more visual representation of the data's distribution for numerical data, indicating features like the median, quartiles, and outliers.\n",
    "\n",
    "- Scatter plots are excellent for exploring relationships between continuous variables, like engine size and price, in a car data set.\n",
    "\n",
    "- Use Pandas' 'groupby' method to explore relationships between categorical variables.\n",
    "\n",
    "- Use pivot tables and heat maps for better data visualizations.\n",
    "\n",
    "- Correlation between variables is a statistical measure that indicates how the changes in one variable might be associated with changes in another variable.\n",
    "\n",
    "- When exploring correlation, use scatter plots combined with a regression line to visualize relationships between variables.\n",
    "\n",
    "- Visualization functions like regplot, from the seaborn library, are especially useful for exploring correlation.\n",
    "\n",
    "- The Pearson correlation, a key method for assessing the correlation between continuous numerical variables, provides two critical values—the coefficient, which indicates the strength and direction of the correlation, and the P-value, which assesses the certainty of the correlation.\n",
    "\n",
    "- A correlation coefficient close to 1 or -1 indicates a strong positive or negative correlation, respectively, while one close to zero suggests no correlation.\n",
    "\n",
    "- For P-values, values less than .001 indicate strong certainty in the correlation, while larger values indicate less certainty. Both the coefficient and P-value are important for confirming a strong correlation.\n",
    "\n",
    "- Heatmaps provide a comprehensive visual summary of the strength and direction of correlations among multiple variables."
   ]
  }
 ],
 "metadata": {
  "language_info": {
   "name": "python"
  }
 },
 "nbformat": 4,
 "nbformat_minor": 5
}
