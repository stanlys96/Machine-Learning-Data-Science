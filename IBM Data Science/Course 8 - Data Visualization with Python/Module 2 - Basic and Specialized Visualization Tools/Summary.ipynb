{
 "cells": [
  {
   "cell_type": "markdown",
   "id": "ebee538b",
   "metadata": {},
   "source": [
    "Summary: Basic and Specialized Visualization Tools\n",
    "\n",
    "Congratulations! You have completed this module. At this point in the course, you know: \n",
    "\n",
    "- A pie chart is a circular statistical graphic, divided into segments, to illustrate numerical proportion.\n",
    "\n",
    "- The process of creating a pie chart involves importing Matplotlib to represent a large set of data over a period of time.\n",
    "\n",
    "- A box plot is a way of statistically representing given data distribution through five main dimensions.\n",
    "\n",
    "- The five main dimensions are minimum, first quartile, median, third quartile, and maximum.\n",
    "\n",
    "- You can create a box plot using Matplotlib.\n",
    "\n",
    "- A scatter plot displays values pertaining to typically two variables against each other.\n",
    "\n",
    "- The process of creating a scatter plot involves importing Matplotlib to visualize a large set of data.\n",
    "\n",
    "- Matplotlib is a versatile plotting library that offers a flexible interface for creating various types of plots.\n",
    "\n",
    "- Matplotlib’s Pyplot module offers a convenient way to create and customize plots quickly.\n",
    "\n",
    "- Data Storytelling is the ‘art of storytelling’ that involves creating a narrative around the data.\n",
    "\n",
    "- Data visualization is an important aspect of data storytelling and involves creating engaging visuals."
   ]
  }
 ],
 "metadata": {
  "language_info": {
   "name": "python"
  }
 },
 "nbformat": 4,
 "nbformat_minor": 5
}
