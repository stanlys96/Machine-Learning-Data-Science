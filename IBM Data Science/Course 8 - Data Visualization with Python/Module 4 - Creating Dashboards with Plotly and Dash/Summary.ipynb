{
 "cells": [
  {
   "cell_type": "markdown",
   "id": "d3b4adcd",
   "metadata": {},
   "source": [
    "Summary: Creating Dashboards with Plotly and Dash\n",
    "\n",
    "Congratulations! You have completed this module. At this point in the course, you know: \n",
    "\n",
    "- Dash is an Open-Source User Interface Python library for creating reactive, web-based applications.\n",
    "\n",
    "- It is easy to build Graphical User Interfaces using Dash as it abstracts all technologies required to make the applications.\n",
    "\n",
    "- There are two components of Dash: Core and HTML components.\n",
    "\n",
    "- The dash_core_components describe higher-level interactive components generated with JavaScript, HTML, and CSS through the React.js library.\n",
    "\n",
    "- The dash_html_components library has a component for every HTML tag.\n",
    "\n",
    "- A callback function is a python function that is automatically called by Dash whenever an input component's property changes.\n",
    "\n",
    "- The @app.callback decorator decorates the callback function in order to tell Dash to call it whenever there is a change in the input component value.\n",
    "\n",
    "- The callback function takes input and output components as parameters and performs operations to return the desired result for the output component."
   ]
  }
 ],
 "metadata": {
  "language_info": {
   "name": "python"
  }
 },
 "nbformat": 4,
 "nbformat_minor": 5
}
